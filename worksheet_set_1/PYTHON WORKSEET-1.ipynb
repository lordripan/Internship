{
 "cells": [
  {
   "cell_type": "markdown",
   "id": "3b8f99a7",
   "metadata": {},
   "source": [
    "# ANS-11-Python program to find the factorial of a number provided by the user.\n",
    "\n",
    " "
   ]
  },
  {
   "cell_type": "code",
   "execution_count": 2,
   "id": "6870cb2f",
   "metadata": {},
   "outputs": [
    {
     "name": "stdout",
     "output_type": "stream",
     "text": [
      "Enter a number: 4\n",
      "The factorial of  4 is 24\n"
     ]
    }
   ],
   "source": [
    "# To take input from the user\n",
    "num=int(input(\"Enter a number: \"))\n",
    "factorial=1\n",
    "# Check if the number is negative,positive or zero\n",
    "if num<0:\n",
    "    print(\"Sorry,factorial does not exist for negative numbers\")\n",
    "elif num==0:\n",
    "    print(\"The factorial of 0 is 1\")\n",
    "else:\n",
    "    for i in range(1,num+1):\n",
    "        factorial=factorial*i\n",
    "    print(\"The factorial of \",num,\"is\",factorial)"
   ]
  },
  {
   "cell_type": "markdown",
   "id": "07b14cdb",
   "metadata": {},
   "source": [
    "# ANS-12-Python program to find whether a number is prime or composite"
   ]
  },
  {
   "cell_type": "code",
   "execution_count": 1,
   "id": "beacb476",
   "metadata": {},
   "outputs": [
    {
     "name": "stdout",
     "output_type": "stream",
     "text": [
      "Enter any number: 4\n",
      "4 is NOT a prime number\n"
     ]
    }
   ],
   "source": [
    "num=int(input(\"Enter any number: \"))\n",
    "if num>1:\n",
    "    for i in range(2,num):\n",
    "        if(num%i)==0:\n",
    "            print(num,\"is NOT a prime number\")\n",
    "            break\n",
    "    else:\n",
    "        print(num,\"is a PRIME number\")\n",
    "elif num==0 or 1:\n",
    "    print(num,\"is a neither prime NOR composite number\")\n",
    "else:\n",
    "    print(num,\"is NOT a prime number it is a COMPOSITE number\")"
   ]
  },
  {
   "cell_type": "markdown",
   "id": "89052666",
   "metadata": {},
   "source": [
    "# ANS-13-Python program to check whether  given string is palindrome or not"
   ]
  },
  {
   "cell_type": "code",
   "execution_count": null,
   "id": "df48df8c",
   "metadata": {},
   "outputs": [],
   "source": []
  },
  {
   "cell_type": "code",
   "execution_count": 2,
   "id": "b25f73a6",
   "metadata": {},
   "outputs": [
    {
     "name": "stdout",
     "output_type": "stream",
     "text": [
      "The string is a palindrome\n"
     ]
    }
   ],
   "source": [
    "my_str='aIbohPhoBiA'\n",
    "# make it suitable for caseless comparison\n",
    "my_str=my_str.casefold()\n",
    "# reverse the string\n",
    "rev_str=reversed(my_str)\n",
    "# check if the string is equal to its reverse\n",
    "if list(my_str)==list(rev_str):\n",
    "    print(\"The string is a palindrome\")\n",
    "else:\n",
    "    print(\"The string is not a palindrome\")\n"
   ]
  },
  {
   "cell_type": "markdown",
   "id": "2de3b921",
   "metadata": {},
   "source": [
    "# ANS-14- A python program to get the third side of right-angled triangle from two given sides"
   ]
  },
  {
   "cell_type": "code",
   "execution_count": 4,
   "id": "2f9fa8c9",
   "metadata": {},
   "outputs": [
    {
     "name": "stdout",
     "output_type": "stream",
     "text": [
      "hypotenuse=5.0\n",
      "adjacent=4.0\n",
      "opposite=3.0\n",
      "You know the answer!\n"
     ]
    }
   ],
   "source": [
    "def pythagoras(opposite_side,adjacent_side,hypotenuse):\n",
    "    if opposite_side==str(\"x\"):\n",
    "        return(\"opposite=\"+str(((hypotenuse**2)-(adjacent_side**2))**0.5))\n",
    "    elif adjacent_side==str(\"x\"):\n",
    "        return(\"adjacent=\"+str(((hypotenuse**2)-(opposite_side**2))**0.5))\n",
    "    elif hypotenuse==str(\"x\"):\n",
    "        return(\"hypotenuse=\"+str(((opposite_side**2)+(adjacent_side**2))**0.5))\n",
    "    else:\n",
    "        return\"You know the answer!\"\n",
    "print(pythagoras(3,4,'x'))\n",
    "print(pythagoras(3,'x',5))\n",
    "print(pythagoras('x',4,5))\n",
    "print(pythagoras(3,4,5))\n",
    "    "
   ]
  },
  {
   "cell_type": "markdown",
   "id": "c35d88b5",
   "metadata": {},
   "source": [
    "# ANS-15-A python program to print the frequency of each of the characters present in a given string"
   ]
  },
  {
   "cell_type": "code",
   "execution_count": 5,
   "id": "e8d9b0f3",
   "metadata": {},
   "outputs": [
    {
     "name": "stdout",
     "output_type": "stream",
     "text": [
      "Y: 1,o: 2,l: 1,o: 2, : 1,L: 1,i: 1,f: 1,e: 1,"
     ]
    }
   ],
   "source": [
    "string=\"Yolo Life\"\n",
    "for i in string:\n",
    "    frequency=string.count(i)\n",
    "    print(str(i)+\": \"+str(frequency),end=\",\")"
   ]
  },
  {
   "cell_type": "code",
   "execution_count": null,
   "id": "7d4d6b92",
   "metadata": {},
   "outputs": [],
   "source": []
  }
 ],
 "metadata": {
  "kernelspec": {
   "display_name": "Python 3 (ipykernel)",
   "language": "python",
   "name": "python3"
  },
  "language_info": {
   "codemirror_mode": {
    "name": "ipython",
    "version": 3
   },
   "file_extension": ".py",
   "mimetype": "text/x-python",
   "name": "python",
   "nbconvert_exporter": "python",
   "pygments_lexer": "ipython3",
   "version": "3.9.12"
  }
 },
 "nbformat": 4,
 "nbformat_minor": 5
}
