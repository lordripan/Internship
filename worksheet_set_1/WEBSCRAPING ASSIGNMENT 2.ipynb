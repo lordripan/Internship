{
 "cells": [
  {
   "cell_type": "code",
   "execution_count": 92,
   "id": "7e674850",
   "metadata": {},
   "outputs": [
    {
     "name": "stdout",
     "output_type": "stream",
     "text": [
      "Requirement already satisfied: selenium in c:\\users\\om raj pandey\\anaconda3\\lib\\site-packages (4.5.0)\n",
      "Requirement already satisfied: trio~=0.17 in c:\\users\\om raj pandey\\anaconda3\\lib\\site-packages (from selenium) (0.22.0)\n",
      "Requirement already satisfied: urllib3[socks]~=1.26 in c:\\users\\om raj pandey\\anaconda3\\lib\\site-packages (from selenium) (1.26.9)\n",
      "Requirement already satisfied: certifi>=2021.10.8 in c:\\users\\om raj pandey\\anaconda3\\lib\\site-packages (from selenium) (2021.10.8)\n",
      "Requirement already satisfied: trio-websocket~=0.9 in c:\\users\\om raj pandey\\anaconda3\\lib\\site-packages (from selenium) (0.9.2)\n",
      "Requirement already satisfied: idna in c:\\users\\om raj pandey\\anaconda3\\lib\\site-packages (from trio~=0.17->selenium) (3.3)\n",
      "Requirement already satisfied: sniffio in c:\\users\\om raj pandey\\anaconda3\\lib\\site-packages (from trio~=0.17->selenium) (1.2.0)\n",
      "Requirement already satisfied: exceptiongroup>=1.0.0rc9 in c:\\users\\om raj pandey\\anaconda3\\lib\\site-packages (from trio~=0.17->selenium) (1.0.0)\n",
      "Requirement already satisfied: sortedcontainers in c:\\users\\om raj pandey\\anaconda3\\lib\\site-packages (from trio~=0.17->selenium) (2.4.0)\n",
      "Requirement already satisfied: attrs>=19.2.0 in c:\\users\\om raj pandey\\anaconda3\\lib\\site-packages (from trio~=0.17->selenium) (21.4.0)\n",
      "Requirement already satisfied: outcome in c:\\users\\om raj pandey\\anaconda3\\lib\\site-packages (from trio~=0.17->selenium) (1.2.0)\n",
      "Requirement already satisfied: async-generator>=1.9 in c:\\users\\om raj pandey\\anaconda3\\lib\\site-packages (from trio~=0.17->selenium) (1.10)\n",
      "Requirement already satisfied: cffi>=1.14 in c:\\users\\om raj pandey\\anaconda3\\lib\\site-packages (from trio~=0.17->selenium) (1.15.0)\n",
      "Requirement already satisfied: pycparser in c:\\users\\om raj pandey\\anaconda3\\lib\\site-packages (from cffi>=1.14->trio~=0.17->selenium) (2.21)\n",
      "Requirement already satisfied: wsproto>=0.14 in c:\\users\\om raj pandey\\anaconda3\\lib\\site-packages (from trio-websocket~=0.9->selenium) (1.2.0)\n",
      "Requirement already satisfied: PySocks!=1.5.7,<2.0,>=1.5.6 in c:\\users\\om raj pandey\\anaconda3\\lib\\site-packages (from urllib3[socks]~=1.26->selenium) (1.7.1)\n",
      "Requirement already satisfied: h11<1,>=0.9.0 in c:\\users\\om raj pandey\\anaconda3\\lib\\site-packages (from wsproto>=0.14->trio-websocket~=0.9->selenium) (0.14.0)\n"
     ]
    }
   ],
   "source": [
    "!pip install selenium"
   ]
  },
  {
   "cell_type": "markdown",
   "id": "2eb7e54d",
   "metadata": {},
   "source": [
    "# ANS-1-A python program to scrape data for \"Data Analyst\" job position in \"Banglore\" location."
   ]
  },
  {
   "cell_type": "code",
   "execution_count": 93,
   "id": "f123d063",
   "metadata": {},
   "outputs": [],
   "source": [
    "import selenium\n",
    "from selenium import webdriver\n",
    "import pandas as pd\n",
    "from selenium.webdriver.common.by import By\n",
    "import warnings\n",
    "warnings.filterwarnings(\"ignore\")\n",
    "import time"
   ]
  },
  {
   "cell_type": "code",
   "execution_count": 34,
   "id": "55043ec3",
   "metadata": {},
   "outputs": [],
   "source": [
    "driver=webdriver.Chrome(r\"C:\\Users\\OM RAJ PANDEY\\Desktop\\jupyter\\chromedriver.exe\")"
   ]
  },
  {
   "cell_type": "code",
   "execution_count": 35,
   "id": "492d98a5",
   "metadata": {},
   "outputs": [],
   "source": [
    "#Let's maximize the automated chrome window\n",
    "driver.maximize_window()"
   ]
  },
  {
   "cell_type": "code",
   "execution_count": 36,
   "id": "cd9f845d",
   "metadata": {},
   "outputs": [],
   "source": [
    "#opening up naukri.com website on automated chrome window\n",
    "url='https://www.naukri.com/'\n",
    "driver.get(url)"
   ]
  },
  {
   "cell_type": "code",
   "execution_count": 37,
   "id": "ee23e9a1",
   "metadata": {},
   "outputs": [],
   "source": [
    "#finding web element for search job bar\n",
    "search_job=driver.find_element(By.CLASS_NAME,\"suggestor-input \")\n",
    "search_job.send_keys(\"Data Analyst\")"
   ]
  },
  {
   "cell_type": "code",
   "execution_count": 38,
   "id": "41248f31",
   "metadata": {},
   "outputs": [],
   "source": [
    "#finding web element for search Location\n",
    "search_locn=driver.find_element(By.XPATH,'/html/body/div[1]/div[6]/div/div/div[5]/div/div/div/input')\n",
    "search_locn.send_keys(\"Banglore\")"
   ]
  },
  {
   "cell_type": "code",
   "execution_count": 39,
   "id": "8f585ee3",
   "metadata": {},
   "outputs": [],
   "source": [
    "search_btn=driver.find_element(By.CLASS_NAME,\"qsbSubmit\")\n",
    "search_btn.click()"
   ]
  },
  {
   "cell_type": "code",
   "execution_count": 40,
   "id": "e8fc7753",
   "metadata": {},
   "outputs": [
    {
     "data": {
      "text/plain": [
       "10"
      ]
     },
     "execution_count": 40,
     "metadata": {},
     "output_type": "execute_result"
    }
   ],
   "source": [
    "#let's extract all web eliments having job titles\n",
    "job_titles=[]\n",
    "title_tags=driver.find_elements(By.XPATH,\"//a[@class='title fw500 ellipsis']\")\n",
    "for i in title_tags[0:10]:\n",
    "    job_titles.append(i.text)\n",
    "len(job_titles)"
   ]
  },
  {
   "cell_type": "code",
   "execution_count": 41,
   "id": "9da89b76",
   "metadata": {},
   "outputs": [
    {
     "data": {
      "text/plain": [
       "['Senior Data Analyst - PLM Data Migration',\n",
       " 'Lead Data Analyst',\n",
       " 'Sr. Data Analyst (SAS Data Management)',\n",
       " 'Data Analyst',\n",
       " 'Data Analyst',\n",
       " 'Senior Data Analyst',\n",
       " 'Sr Data Analyst',\n",
       " 'Senior Analyst - Data Management',\n",
       " 'Data Analyst - Python/Artificial Intelligence',\n",
       " 'CONSULTANT - DATA ANALYST - CRM ERP']"
      ]
     },
     "execution_count": 41,
     "metadata": {},
     "output_type": "execute_result"
    }
   ],
   "source": [
    "job_titles"
   ]
  },
  {
   "cell_type": "code",
   "execution_count": 42,
   "id": "6f0842a4",
   "metadata": {},
   "outputs": [
    {
     "data": {
      "text/plain": [
       "10"
      ]
     },
     "execution_count": 42,
     "metadata": {},
     "output_type": "execute_result"
    }
   ],
   "source": [
    "company_names=[]\n",
    "company_tags=driver.find_elements(By.XPATH,'//a[@class=\"subTitle ellipsis fleft\"]')\n",
    "for i in company_tags[0:10]:\n",
    "    company_names.append(i.text)\n",
    "len(company_names)"
   ]
  },
  {
   "cell_type": "code",
   "execution_count": 43,
   "id": "47d2d954",
   "metadata": {},
   "outputs": [
    {
     "data": {
      "text/plain": [
       "10"
      ]
     },
     "execution_count": 43,
     "metadata": {},
     "output_type": "execute_result"
    }
   ],
   "source": [
    "experience=[]\n",
    "exp_tags=driver.find_elements(By.XPATH,'//span[@class=\"ellipsis fleft fs12 lh16 expwdth\"]')\n",
    "for i in exp_tags[0:10]:\n",
    "    experience.append(i.text)\n",
    "len(experience)"
   ]
  },
  {
   "cell_type": "code",
   "execution_count": 44,
   "id": "9c939fe5",
   "metadata": {},
   "outputs": [
    {
     "data": {
      "text/plain": [
       "10"
      ]
     },
     "execution_count": 44,
     "metadata": {},
     "output_type": "execute_result"
    }
   ],
   "source": [
    "location=[]\n",
    "locn_tags=driver.find_elements(By.XPATH,'//span[@class=\"ellipsis fleft fs12 lh16 locWdth\"]')\n",
    "for i in locn_tags[0:10]:\n",
    "    location.append(i.text)\n",
    "len(location)"
   ]
  },
  {
   "cell_type": "code",
   "execution_count": 51,
   "id": "573274a0",
   "metadata": {},
   "outputs": [
    {
     "data": {
      "text/html": [
       "<div>\n",
       "<style scoped>\n",
       "    .dataframe tbody tr th:only-of-type {\n",
       "        vertical-align: middle;\n",
       "    }\n",
       "\n",
       "    .dataframe tbody tr th {\n",
       "        vertical-align: top;\n",
       "    }\n",
       "\n",
       "    .dataframe thead th {\n",
       "        text-align: right;\n",
       "    }\n",
       "</style>\n",
       "<table border=\"1\" class=\"dataframe\">\n",
       "  <thead>\n",
       "    <tr style=\"text-align: right;\">\n",
       "      <th></th>\n",
       "      <th>Job Title</th>\n",
       "      <th>Company</th>\n",
       "      <th>Experience</th>\n",
       "      <th>Location</th>\n",
       "    </tr>\n",
       "  </thead>\n",
       "  <tbody>\n",
       "    <tr>\n",
       "      <th>0</th>\n",
       "      <td>Senior Data Analyst - PLM Data Migration</td>\n",
       "      <td>CGI</td>\n",
       "      <td>3-6 Yrs</td>\n",
       "      <td>Bangalore/Bengaluru</td>\n",
       "    </tr>\n",
       "    <tr>\n",
       "      <th>1</th>\n",
       "      <td>Lead Data Analyst</td>\n",
       "      <td>Mobile Premier League (MPL)</td>\n",
       "      <td>4-7 Yrs</td>\n",
       "      <td>Bangalore/Bengaluru</td>\n",
       "    </tr>\n",
       "    <tr>\n",
       "      <th>2</th>\n",
       "      <td>Sr. Data Analyst (SAS Data Management)</td>\n",
       "      <td>NMS Consultant</td>\n",
       "      <td>5-10 Yrs</td>\n",
       "      <td>New Delhi, Bangalore/Bengaluru</td>\n",
       "    </tr>\n",
       "    <tr>\n",
       "      <th>3</th>\n",
       "      <td>Data Analyst</td>\n",
       "      <td>IBM</td>\n",
       "      <td>3-4 Yrs</td>\n",
       "      <td>Bangalore/Bengaluru</td>\n",
       "    </tr>\n",
       "    <tr>\n",
       "      <th>4</th>\n",
       "      <td>Data Analyst</td>\n",
       "      <td>IBM</td>\n",
       "      <td>3-4 Yrs</td>\n",
       "      <td>Bangalore/Bengaluru</td>\n",
       "    </tr>\n",
       "    <tr>\n",
       "      <th>5</th>\n",
       "      <td>Senior Data Analyst</td>\n",
       "      <td>Groundtruth</td>\n",
       "      <td>5-8 Yrs</td>\n",
       "      <td>Hybrid - Gurgaon/Gurugram, Bangalore/Bengaluru</td>\n",
       "    </tr>\n",
       "    <tr>\n",
       "      <th>6</th>\n",
       "      <td>Sr Data Analyst</td>\n",
       "      <td>Mettox Laboratries</td>\n",
       "      <td>3-8 Yrs</td>\n",
       "      <td>Bangalore/Bengaluru</td>\n",
       "    </tr>\n",
       "    <tr>\n",
       "      <th>7</th>\n",
       "      <td>Senior Analyst - Data Management</td>\n",
       "      <td>Accenture</td>\n",
       "      <td>5-8 Yrs</td>\n",
       "      <td>Bangalore/Bengaluru</td>\n",
       "    </tr>\n",
       "    <tr>\n",
       "      <th>8</th>\n",
       "      <td>Data Analyst - Python/Artificial Intelligence</td>\n",
       "      <td>iMindYourBusiness</td>\n",
       "      <td>0-2 Yrs</td>\n",
       "      <td>Kolkata, Mumbai, Visakhapatnam, Hyderabad/Secu...</td>\n",
       "    </tr>\n",
       "    <tr>\n",
       "      <th>9</th>\n",
       "      <td>CONSULTANT - DATA ANALYST - CRM ERP</td>\n",
       "      <td>Pratham Books</td>\n",
       "      <td>14-20 Yrs</td>\n",
       "      <td>Bangalore/Bengaluru</td>\n",
       "    </tr>\n",
       "  </tbody>\n",
       "</table>\n",
       "</div>"
      ],
      "text/plain": [
       "                                       Job Title                      Company  \\\n",
       "0       Senior Data Analyst - PLM Data Migration                          CGI   \n",
       "1                              Lead Data Analyst  Mobile Premier League (MPL)   \n",
       "2         Sr. Data Analyst (SAS Data Management)               NMS Consultant   \n",
       "3                                   Data Analyst                          IBM   \n",
       "4                                   Data Analyst                          IBM   \n",
       "5                            Senior Data Analyst                  Groundtruth   \n",
       "6                                Sr Data Analyst           Mettox Laboratries   \n",
       "7               Senior Analyst - Data Management                    Accenture   \n",
       "8  Data Analyst - Python/Artificial Intelligence            iMindYourBusiness   \n",
       "9            CONSULTANT - DATA ANALYST - CRM ERP                Pratham Books   \n",
       "\n",
       "  Experience                                           Location  \n",
       "0    3-6 Yrs                                Bangalore/Bengaluru  \n",
       "1    4-7 Yrs                                Bangalore/Bengaluru  \n",
       "2   5-10 Yrs                     New Delhi, Bangalore/Bengaluru  \n",
       "3    3-4 Yrs                                Bangalore/Bengaluru  \n",
       "4    3-4 Yrs                                Bangalore/Bengaluru  \n",
       "5    5-8 Yrs     Hybrid - Gurgaon/Gurugram, Bangalore/Bengaluru  \n",
       "6    3-8 Yrs                                Bangalore/Bengaluru  \n",
       "7    5-8 Yrs                                Bangalore/Bengaluru  \n",
       "8    0-2 Yrs  Kolkata, Mumbai, Visakhapatnam, Hyderabad/Secu...  \n",
       "9  14-20 Yrs                                Bangalore/Bengaluru  "
      ]
     },
     "execution_count": 51,
     "metadata": {},
     "output_type": "execute_result"
    }
   ],
   "source": [
    "jobs=pd.DataFrame()\n",
    "jobs['Job Title']=job_titles\n",
    "jobs['Company']=company_names\n",
    "jobs['Experience']=experience\n",
    "jobs['Location']=location\n",
    "jobs"
   ]
  },
  {
   "cell_type": "code",
   "execution_count": 52,
   "id": "3558611f",
   "metadata": {},
   "outputs": [],
   "source": [
    "driver.close()"
   ]
  },
  {
   "cell_type": "markdown",
   "id": "378c5958",
   "metadata": {},
   "source": [
    "# ANS-2-A python program to scrape data for \"Data Scientist \" job position in \"Banglore\" location."
   ]
  },
  {
   "cell_type": "code",
   "execution_count": 53,
   "id": "9c2c2fdc",
   "metadata": {},
   "outputs": [],
   "source": [
    "driver=webdriver.Chrome(r\"C:\\Users\\OM RAJ PANDEY\\Desktop\\jupyter\\chromedriver.exe\")"
   ]
  },
  {
   "cell_type": "code",
   "execution_count": 54,
   "id": "285e555a",
   "metadata": {},
   "outputs": [],
   "source": [
    "#let's maximize the automated chrome window\n",
    "driver.maximize_window()"
   ]
  },
  {
   "cell_type": "code",
   "execution_count": 55,
   "id": "8d988afe",
   "metadata": {},
   "outputs": [],
   "source": [
    "#Opening up naukri.com website on automated chrome window\n",
    "url='https://www.naukri.com/'\n",
    "driver.get(url)"
   ]
  },
  {
   "cell_type": "code",
   "execution_count": 56,
   "id": "f1bcf1af",
   "metadata": {},
   "outputs": [],
   "source": [
    "search_job=driver.find_element(By.CLASS_NAME,\"suggestor-input\")\n",
    "search_job.send_keys(\"Data Scientist\")"
   ]
  },
  {
   "cell_type": "code",
   "execution_count": 57,
   "id": "2bc875df",
   "metadata": {},
   "outputs": [],
   "source": [
    "#finding web element for search Location\n",
    "search_locn=driver.find_element(By.XPATH,'/html/body/div[1]/div[6]/div/div/div[5]/div/div/div/input')\n",
    "search_locn.send_keys(\"Banglore\")"
   ]
  },
  {
   "cell_type": "code",
   "execution_count": 59,
   "id": "785c3af8",
   "metadata": {},
   "outputs": [],
   "source": [
    "search_btn=driver.find_element(By.CLASS_NAME,\"qsbSubmit\")\n",
    "search_btn.click()"
   ]
  },
  {
   "cell_type": "code",
   "execution_count": 61,
   "id": "4891b9a0",
   "metadata": {},
   "outputs": [
    {
     "data": {
      "text/plain": [
       "10"
      ]
     },
     "execution_count": 61,
     "metadata": {},
     "output_type": "execute_result"
    }
   ],
   "source": [
    "#let's extract all web elements having job titles\n",
    "job_titles=[]\n",
    "title_tags=driver.find_elements(By.XPATH,'//a[@class=\"title fw500 ellipsis\"]')\n",
    "for i in title_tags[0:10]:\n",
    "    job_titles.append(i.text)\n",
    "len(job_titles)"
   ]
  },
  {
   "cell_type": "code",
   "execution_count": 62,
   "id": "4af654da",
   "metadata": {},
   "outputs": [
    {
     "data": {
      "text/plain": [
       "10"
      ]
     },
     "execution_count": 62,
     "metadata": {},
     "output_type": "execute_result"
    }
   ],
   "source": [
    "#let's extract all web elements having location\n",
    "location=[]\n",
    "locn_tags=driver.find_elements(By.XPATH,'//span[@class=\"ellipsis fleft fs12 lh16 locWdth\"]')\n",
    "for i in locn_tags[0:10]:\n",
    "    location.append(i.text)\n",
    "len(location)"
   ]
  },
  {
   "cell_type": "code",
   "execution_count": 63,
   "id": "7f7461a2",
   "metadata": {},
   "outputs": [
    {
     "data": {
      "text/plain": [
       "10"
      ]
     },
     "execution_count": 63,
     "metadata": {},
     "output_type": "execute_result"
    }
   ],
   "source": [
    "#let's extract all web elements having company names\n",
    "company_names=[]\n",
    "company_tags=driver.find_elements(By.XPATH,'//a[@class=\"subTitle ellipsis fleft\"]')\n",
    "for i in company_tags[0:10]:\n",
    "    company_names.append(i.text)\n",
    "len(company_names)\n"
   ]
  },
  {
   "cell_type": "code",
   "execution_count": 64,
   "id": "89ada48e",
   "metadata": {},
   "outputs": [
    {
     "data": {
      "text/html": [
       "<div>\n",
       "<style scoped>\n",
       "    .dataframe tbody tr th:only-of-type {\n",
       "        vertical-align: middle;\n",
       "    }\n",
       "\n",
       "    .dataframe tbody tr th {\n",
       "        vertical-align: top;\n",
       "    }\n",
       "\n",
       "    .dataframe thead th {\n",
       "        text-align: right;\n",
       "    }\n",
       "</style>\n",
       "<table border=\"1\" class=\"dataframe\">\n",
       "  <thead>\n",
       "    <tr style=\"text-align: right;\">\n",
       "      <th></th>\n",
       "      <th>Job Title</th>\n",
       "      <th>Company</th>\n",
       "      <th>Location</th>\n",
       "    </tr>\n",
       "  </thead>\n",
       "  <tbody>\n",
       "    <tr>\n",
       "      <th>0</th>\n",
       "      <td>Analystics &amp; Modeling Specialist</td>\n",
       "      <td>Accenture</td>\n",
       "      <td>Kolkata, Mumbai, Hyderabad/Secunderabad, Pune,...</td>\n",
       "    </tr>\n",
       "    <tr>\n",
       "      <th>1</th>\n",
       "      <td>Senior Data Scientist</td>\n",
       "      <td>Wipro</td>\n",
       "      <td>Hybrid - Pune, Chennai, Bangalore/Bengaluru</td>\n",
       "    </tr>\n",
       "    <tr>\n",
       "      <th>2</th>\n",
       "      <td>Data Scientist - Looking For Immediate Joiners</td>\n",
       "      <td>Wipro</td>\n",
       "      <td>Hybrid - Hyderabad/Secunderabad, Bangalore/Ben...</td>\n",
       "    </tr>\n",
       "    <tr>\n",
       "      <th>3</th>\n",
       "      <td>Assistant Manager - Data Science</td>\n",
       "      <td>Citiustech</td>\n",
       "      <td>Hybrid - Mumbai, Pune, Bangalore/Bengaluru</td>\n",
       "    </tr>\n",
       "    <tr>\n",
       "      <th>4</th>\n",
       "      <td>Data Scientist</td>\n",
       "      <td>Altair</td>\n",
       "      <td>Hyderabad/Secunderabad, Pune, Chennai, Bangalo...</td>\n",
       "    </tr>\n",
       "    <tr>\n",
       "      <th>5</th>\n",
       "      <td>ACN - Applied Intelligence - Data Scientist - 09</td>\n",
       "      <td>Accenture</td>\n",
       "      <td>Bangalore/Bengaluru</td>\n",
       "    </tr>\n",
       "    <tr>\n",
       "      <th>6</th>\n",
       "      <td>Data Scientist - 2</td>\n",
       "      <td>24 7 ai</td>\n",
       "      <td>Bangalore/Bengaluru</td>\n",
       "    </tr>\n",
       "    <tr>\n",
       "      <th>7</th>\n",
       "      <td>Data Scientist</td>\n",
       "      <td>HCLTech</td>\n",
       "      <td>Noida, Hyderabad/Secunderabad, Chennai, Bangal...</td>\n",
       "    </tr>\n",
       "    <tr>\n",
       "      <th>8</th>\n",
       "      <td>Senior Data Scientist</td>\n",
       "      <td>Boston Consulting Group</td>\n",
       "      <td>Mumbai, New Delhi, Chennai, Bangalore/Bengaluru</td>\n",
       "    </tr>\n",
       "    <tr>\n",
       "      <th>9</th>\n",
       "      <td>Data Scientist - II</td>\n",
       "      <td>Bizongo</td>\n",
       "      <td>India, Bangalore/Bengaluru, Mumbai (All Areas)</td>\n",
       "    </tr>\n",
       "  </tbody>\n",
       "</table>\n",
       "</div>"
      ],
      "text/plain": [
       "                                          Job Title                  Company  \\\n",
       "0                  Analystics & Modeling Specialist                Accenture   \n",
       "1                             Senior Data Scientist                    Wipro   \n",
       "2    Data Scientist - Looking For Immediate Joiners                    Wipro   \n",
       "3                  Assistant Manager - Data Science               Citiustech   \n",
       "4                                    Data Scientist                   Altair   \n",
       "5  ACN - Applied Intelligence - Data Scientist - 09                Accenture   \n",
       "6                                Data Scientist - 2                  24 7 ai   \n",
       "7                                    Data Scientist                  HCLTech   \n",
       "8                             Senior Data Scientist  Boston Consulting Group   \n",
       "9                               Data Scientist - II                  Bizongo   \n",
       "\n",
       "                                            Location  \n",
       "0  Kolkata, Mumbai, Hyderabad/Secunderabad, Pune,...  \n",
       "1        Hybrid - Pune, Chennai, Bangalore/Bengaluru  \n",
       "2  Hybrid - Hyderabad/Secunderabad, Bangalore/Ben...  \n",
       "3         Hybrid - Mumbai, Pune, Bangalore/Bengaluru  \n",
       "4  Hyderabad/Secunderabad, Pune, Chennai, Bangalo...  \n",
       "5                                Bangalore/Bengaluru  \n",
       "6                                Bangalore/Bengaluru  \n",
       "7  Noida, Hyderabad/Secunderabad, Chennai, Bangal...  \n",
       "8    Mumbai, New Delhi, Chennai, Bangalore/Bengaluru  \n",
       "9     India, Bangalore/Bengaluru, Mumbai (All Areas)  "
      ]
     },
     "execution_count": 64,
     "metadata": {},
     "output_type": "execute_result"
    }
   ],
   "source": [
    "jobs=pd.DataFrame()\n",
    "jobs['Job Title']=job_titles\n",
    "jobs['Company']=company_names\n",
    "jobs['Location']=location\n",
    "jobs"
   ]
  },
  {
   "cell_type": "code",
   "execution_count": 65,
   "id": "0c68c85f",
   "metadata": {},
   "outputs": [],
   "source": [
    "driver.close()"
   ]
  },
  {
   "cell_type": "markdown",
   "id": "72db3173",
   "metadata": {},
   "source": [
    "# ANS-3-A python program to scrap data using the filters available on the webpage"
   ]
  },
  {
   "cell_type": "code",
   "execution_count": 112,
   "id": "cb95d522",
   "metadata": {},
   "outputs": [],
   "source": [
    "driver=webdriver.Chrome(r\"C:\\Users\\OM RAJ PANDEY\\Desktop\\jupyter\\chromedriver.exe\")"
   ]
  },
  {
   "cell_type": "code",
   "execution_count": 113,
   "id": "31f774f3",
   "metadata": {},
   "outputs": [],
   "source": [
    "#let's maximize the automated chrome window\n",
    "driver.maximize_window()"
   ]
  },
  {
   "cell_type": "code",
   "execution_count": 114,
   "id": "af0b18a9",
   "metadata": {},
   "outputs": [],
   "source": [
    "#Opening up naukri.com website on automated chrome window\n",
    "url='https://www.naukri.com/'\n",
    "driver.get(url)"
   ]
  },
  {
   "cell_type": "code",
   "execution_count": 115,
   "id": "10ff896f",
   "metadata": {},
   "outputs": [],
   "source": [
    "#finding web element for search job bar\n",
    "search_job=driver.find_element(By.CLASS_NAME,\"suggestor-input\")\n",
    "search_job.send_keys(\"Data Scientist\")"
   ]
  },
  {
   "cell_type": "code",
   "execution_count": 116,
   "id": "9e320613",
   "metadata": {},
   "outputs": [],
   "source": [
    "#clicking using xpath function\n",
    "search_btn=driver.find_element(By.CLASS_NAME,\"qsbSubmit\")\n",
    "search_btn.click()"
   ]
  },
  {
   "cell_type": "code",
   "execution_count": 119,
   "id": "246b86a0",
   "metadata": {},
   "outputs": [],
   "source": [
    "#Applying location filter\n",
    "Delhi_btn=driver.find_element(By.XPATH,\"/html/body/div[1]/div[4]/div/section[1]/div[2]/div[5]/div[2]/div[2]/label/p/span[1]\")\n",
    "Delhi_btn.click()"
   ]
  },
  {
   "cell_type": "code",
   "execution_count": 120,
   "id": "0bcba87d",
   "metadata": {},
   "outputs": [],
   "source": [
    "Salary_btn=driver.find_element(By.XPATH,\"/html/body/div[1]/div[4]/div/section[1]/div[2]/div[6]/div[2]/div[2]/label/p/span[1]\")\n",
    "Salary_btn.click()"
   ]
  },
  {
   "cell_type": "code",
   "execution_count": 122,
   "id": "7d67beb0",
   "metadata": {},
   "outputs": [
    {
     "data": {
      "text/plain": [
       "10"
      ]
     },
     "execution_count": 122,
     "metadata": {},
     "output_type": "execute_result"
    }
   ],
   "source": [
    "#let's extract all web elements having job titles\n",
    "job_titles=[]\n",
    "title_tags=driver.find_elements(By.XPATH,'//a[@class=\"title fw500 ellipsis\"]')\n",
    "for i in title_tags[0:10]:\n",
    "    job_titles.append(i.text)\n",
    "len(job_titles)"
   ]
  },
  {
   "cell_type": "code",
   "execution_count": 123,
   "id": "b367b44f",
   "metadata": {},
   "outputs": [
    {
     "data": {
      "text/plain": [
       "10"
      ]
     },
     "execution_count": 123,
     "metadata": {},
     "output_type": "execute_result"
    }
   ],
   "source": [
    "#Extracting company names\n",
    "company_names=[]\n",
    "company_tags=driver.find_elements(By.XPATH,'//a[@class=\"subTitle ellipsis fleft\"]')\n",
    "for i in company_tags[0:10]:\n",
    "    company_names.append(i.text)\n",
    "len(company_names)"
   ]
  },
  {
   "cell_type": "code",
   "execution_count": 124,
   "id": "3731a43c",
   "metadata": {},
   "outputs": [
    {
     "data": {
      "text/plain": [
       "10"
      ]
     },
     "execution_count": 124,
     "metadata": {},
     "output_type": "execute_result"
    }
   ],
   "source": [
    "#Extracting experience\n",
    "experience=[]\n",
    "exp_tags=driver.find_elements(By.XPATH,'//span[@class=\"ellipsis fleft fs12 lh16 expwdth\"]')\n",
    "for i in exp_tags[0:10]:\n",
    "    experience.append(i.text)\n",
    "len(experience)"
   ]
  },
  {
   "cell_type": "code",
   "execution_count": 125,
   "id": "bcdddfe6",
   "metadata": {},
   "outputs": [
    {
     "data": {
      "text/plain": [
       "10"
      ]
     },
     "execution_count": 125,
     "metadata": {},
     "output_type": "execute_result"
    }
   ],
   "source": [
    "#Extracting location\n",
    "location=[]\n",
    "locn_tags=driver.find_elements(By.XPATH,'//span[@class=\"ellipsis fleft fs12 lh16 locWdth\"]')\n",
    "for i in locn_tags[0:10]:\n",
    "    location.append(i.text)\n",
    "len(location)"
   ]
  },
  {
   "cell_type": "code",
   "execution_count": 126,
   "id": "2d0a5c89",
   "metadata": {},
   "outputs": [
    {
     "data": {
      "text/html": [
       "<div>\n",
       "<style scoped>\n",
       "    .dataframe tbody tr th:only-of-type {\n",
       "        vertical-align: middle;\n",
       "    }\n",
       "\n",
       "    .dataframe tbody tr th {\n",
       "        vertical-align: top;\n",
       "    }\n",
       "\n",
       "    .dataframe thead th {\n",
       "        text-align: right;\n",
       "    }\n",
       "</style>\n",
       "<table border=\"1\" class=\"dataframe\">\n",
       "  <thead>\n",
       "    <tr style=\"text-align: right;\">\n",
       "      <th></th>\n",
       "      <th>Job Titles</th>\n",
       "      <th>Company</th>\n",
       "      <th>Experience</th>\n",
       "      <th>Location</th>\n",
       "    </tr>\n",
       "  </thead>\n",
       "  <tbody>\n",
       "    <tr>\n",
       "      <th>0</th>\n",
       "      <td>Data Scientist</td>\n",
       "      <td>HCLTech</td>\n",
       "      <td>4-9 Yrs</td>\n",
       "      <td>Noida, Hyderabad/Secunderabad, Chennai, Bangal...</td>\n",
       "    </tr>\n",
       "    <tr>\n",
       "      <th>1</th>\n",
       "      <td>DigitalBCG GAMMA Data Scientist</td>\n",
       "      <td>Boston Consulting Group</td>\n",
       "      <td>2-5 Yrs</td>\n",
       "      <td>New Delhi, Bangalore/Bengaluru</td>\n",
       "    </tr>\n",
       "    <tr>\n",
       "      <th>2</th>\n",
       "      <td>Urgent hiring For Data Scientist (PHD Must Have)</td>\n",
       "      <td>NGI Ventures</td>\n",
       "      <td>0-4 Yrs</td>\n",
       "      <td>Temp. WFH - Noida, Pune</td>\n",
       "    </tr>\n",
       "    <tr>\n",
       "      <th>3</th>\n",
       "      <td>Manager - Data Science - Banking&amp;Financial Ser...</td>\n",
       "      <td>Black Turtle</td>\n",
       "      <td>4-8 Yrs</td>\n",
       "      <td>Delhi / NCR, Bangalore/Bengaluru</td>\n",
       "    </tr>\n",
       "    <tr>\n",
       "      <th>4</th>\n",
       "      <td>Data Scientist</td>\n",
       "      <td>torcai digital media</td>\n",
       "      <td>2-7 Yrs</td>\n",
       "      <td>Dehradun, Hyderabad/Secunderabad, Gurgaon/Guru...</td>\n",
       "    </tr>\n",
       "    <tr>\n",
       "      <th>5</th>\n",
       "      <td>Data Scientist</td>\n",
       "      <td>Meon Technologies</td>\n",
       "      <td>2-5 Yrs</td>\n",
       "      <td>Noida</td>\n",
       "    </tr>\n",
       "    <tr>\n",
       "      <th>6</th>\n",
       "      <td>Data Scientist</td>\n",
       "      <td>Alliance Recruitment Agency</td>\n",
       "      <td>3-4 Yrs</td>\n",
       "      <td>Noida</td>\n",
       "    </tr>\n",
       "    <tr>\n",
       "      <th>7</th>\n",
       "      <td>Data Specialist</td>\n",
       "      <td>RCPC</td>\n",
       "      <td>4-6 Yrs</td>\n",
       "      <td>Noida</td>\n",
       "    </tr>\n",
       "    <tr>\n",
       "      <th>8</th>\n",
       "      <td>Data scientist- Python</td>\n",
       "      <td>TeamPlus Staffing Solution Pvt Ltd</td>\n",
       "      <td>3-6 Yrs</td>\n",
       "      <td>Gurgaon/Gurugram</td>\n",
       "    </tr>\n",
       "    <tr>\n",
       "      <th>9</th>\n",
       "      <td>Data Scientist</td>\n",
       "      <td>Razor Group GmbH</td>\n",
       "      <td>2-3 Yrs</td>\n",
       "      <td>New Delhi</td>\n",
       "    </tr>\n",
       "  </tbody>\n",
       "</table>\n",
       "</div>"
      ],
      "text/plain": [
       "                                          Job Titles  \\\n",
       "0                                     Data Scientist   \n",
       "1                    DigitalBCG GAMMA Data Scientist   \n",
       "2   Urgent hiring For Data Scientist (PHD Must Have)   \n",
       "3  Manager - Data Science - Banking&Financial Ser...   \n",
       "4                                     Data Scientist   \n",
       "5                                     Data Scientist   \n",
       "6                                     Data Scientist   \n",
       "7                                    Data Specialist   \n",
       "8                             Data scientist- Python   \n",
       "9                                     Data Scientist   \n",
       "\n",
       "                              Company Experience  \\\n",
       "0                             HCLTech    4-9 Yrs   \n",
       "1             Boston Consulting Group    2-5 Yrs   \n",
       "2                        NGI Ventures    0-4 Yrs   \n",
       "3                        Black Turtle    4-8 Yrs   \n",
       "4                torcai digital media    2-7 Yrs   \n",
       "5                   Meon Technologies    2-5 Yrs   \n",
       "6         Alliance Recruitment Agency    3-4 Yrs   \n",
       "7                                RCPC    4-6 Yrs   \n",
       "8  TeamPlus Staffing Solution Pvt Ltd    3-6 Yrs   \n",
       "9                    Razor Group GmbH    2-3 Yrs   \n",
       "\n",
       "                                            Location  \n",
       "0  Noida, Hyderabad/Secunderabad, Chennai, Bangal...  \n",
       "1                     New Delhi, Bangalore/Bengaluru  \n",
       "2                            Temp. WFH - Noida, Pune  \n",
       "3                   Delhi / NCR, Bangalore/Bengaluru  \n",
       "4  Dehradun, Hyderabad/Secunderabad, Gurgaon/Guru...  \n",
       "5                                              Noida  \n",
       "6                                              Noida  \n",
       "7                                              Noida  \n",
       "8                                   Gurgaon/Gurugram  \n",
       "9                                          New Delhi  "
      ]
     },
     "execution_count": 126,
     "metadata": {},
     "output_type": "execute_result"
    }
   ],
   "source": [
    "jobs=pd.DataFrame()\n",
    "jobs['Job Titles']=job_titles\n",
    "jobs['Company']=company_names\n",
    "jobs['Experience']=experience\n",
    "jobs['Location']=location\n",
    "jobs\n"
   ]
  },
  {
   "cell_type": "code",
   "execution_count": 127,
   "id": "62ce5b4d",
   "metadata": {},
   "outputs": [],
   "source": [
    "driver.close()"
   ]
  },
  {
   "cell_type": "markdown",
   "id": "4fabe8ae",
   "metadata": {},
   "source": [
    "# ANS-4-A python program to scrape data of first 100 sunglasses listing on flipkart.com"
   ]
  },
  {
   "cell_type": "code",
   "execution_count": 171,
   "id": "dc5d0937",
   "metadata": {},
   "outputs": [],
   "source": [
    "driver=webdriver.Chrome(r\"C:\\Users\\OM RAJ PANDEY\\Desktop\\jupyter\\chromedriver.exe\")"
   ]
  },
  {
   "cell_type": "code",
   "execution_count": 138,
   "id": "9f6e11a2",
   "metadata": {},
   "outputs": [],
   "source": [
    "#let's maximize the automated chrome window\n",
    "driver.maximize_window()"
   ]
  },
  {
   "cell_type": "code",
   "execution_count": 139,
   "id": "71102ccd",
   "metadata": {},
   "outputs": [],
   "source": [
    "#Opening up flipkart.com website on automated chrome window\n",
    "url='https://www.flipkart.com/'\n",
    "driver.get(url)"
   ]
  },
  {
   "cell_type": "code",
   "execution_count": 140,
   "id": "094b5815",
   "metadata": {},
   "outputs": [],
   "source": [
    "#finding web element for search product bar\n",
    "search_product=driver.find_element(By.CLASS_NAME,\"_3704LK\")\n",
    "search_product.send_keys(\"Sunglasses\")"
   ]
  },
  {
   "cell_type": "code",
   "execution_count": 142,
   "id": "4bd8e26f",
   "metadata": {},
   "outputs": [],
   "source": [
    "#Clicking the search icon\n",
    "search_btn=driver.find_element(By.CLASS_NAME,\"L0Z3Pu\")\n",
    "search_btn.click()"
   ]
  },
  {
   "cell_type": "code",
   "execution_count": 143,
   "id": "f4efe7a2",
   "metadata": {},
   "outputs": [
    {
     "data": {
      "text/plain": [
       "['RESIST EYEWEAR',\n",
       " 'ARICKS',\n",
       " 'Fastrack',\n",
       " 'PIRASO',\n",
       " 'Fastrack',\n",
       " 'VINCENT CHASE',\n",
       " 'New Specs',\n",
       " 'ROZZETTA CRAFT',\n",
       " 'PIRASO',\n",
       " 'Fastrack',\n",
       " 'ARICKS',\n",
       " 'ROZZETTA CRAFT',\n",
       " 'Fastrack',\n",
       " 'PIRASO',\n",
       " 'VINCENT CHASE',\n",
       " 'Sewell',\n",
       " 'ROYAL SON',\n",
       " 'ROZZETTA CRAFT',\n",
       " 'PIRASO',\n",
       " 'Fastrack',\n",
       " 'Singco India',\n",
       " 'PROVOGUE',\n",
       " 'ROZZETTA CRAFT',\n",
       " 'PIRASO',\n",
       " 'GANSTA',\n",
       " 'Fastrack',\n",
       " 'ROZZETTA CRAFT',\n",
       " 'ROZZETTA CRAFT',\n",
       " 'Elligator',\n",
       " 'GANSTA',\n",
       " 'SUNBEE',\n",
       " 'Silver Kartz',\n",
       " 'Elligator',\n",
       " 'DEIXELS',\n",
       " 'CRYSTAL CART',\n",
       " 'PIRASO',\n",
       " 'ROYAL SON',\n",
       " 'ROZZETTA CRAFT',\n",
       " 'SHAAH COLLECTIONS',\n",
       " 'Anemone']"
      ]
     },
     "execution_count": 143,
     "metadata": {},
     "output_type": "execute_result"
    }
   ],
   "source": [
    "brand=[]\n",
    "brand_tags=driver.find_elements(By.XPATH,'//div[@class=\"_2WkVRV\"]')\n",
    "for i in brand_tags:\n",
    "    brand.append(i.text)\n",
    "brand"
   ]
  },
  {
   "cell_type": "code",
   "execution_count": 144,
   "id": "94ffbdd2",
   "metadata": {},
   "outputs": [
    {
     "data": {
      "text/plain": [
       "40"
      ]
     },
     "execution_count": 144,
     "metadata": {},
     "output_type": "execute_result"
    }
   ],
   "source": [
    "len(brand)"
   ]
  },
  {
   "cell_type": "code",
   "execution_count": 145,
   "id": "757f07ad",
   "metadata": {},
   "outputs": [
    {
     "data": {
      "text/plain": [
       "40"
      ]
     },
     "execution_count": 145,
     "metadata": {},
     "output_type": "execute_result"
    }
   ],
   "source": [
    "#product description\n",
    "pro_des=[]\n",
    "pro_tags=driver.find_elements(By.XPATH,'//a[@class=\"IRpwTa\"]')\n",
    "for i in pro_tags:\n",
    "    pro_des.append(i.text)\n",
    "len(pro_des)"
   ]
  },
  {
   "cell_type": "code",
   "execution_count": 146,
   "id": "217b40aa",
   "metadata": {},
   "outputs": [
    {
     "data": {
      "text/plain": [
       "40"
      ]
     },
     "execution_count": 146,
     "metadata": {},
     "output_type": "execute_result"
    }
   ],
   "source": [
    "#price\n",
    "price=[]\n",
    "price_tags=driver.find_elements(By.XPATH,'//div[@class=\"_30jeq3\"]')\n",
    "for i in price_tags:\n",
    "    price.append(i.text)\n",
    "len(price)"
   ]
  },
  {
   "cell_type": "code",
   "execution_count": 147,
   "id": "4c5f6c3a",
   "metadata": {},
   "outputs": [
    {
     "data": {
      "text/plain": [
       "40"
      ]
     },
     "execution_count": 147,
     "metadata": {},
     "output_type": "execute_result"
    }
   ],
   "source": [
    "#discount\n",
    "discount=[]\n",
    "discount_tags=driver.find_elements(By.XPATH,'//div[@class=\"_3Ay6Sb\"]')\n",
    "for i in discount_tags:\n",
    "    discount.append(i.text)\n",
    "len(discount)"
   ]
  },
  {
   "cell_type": "code",
   "execution_count": 153,
   "id": "63b5d743",
   "metadata": {},
   "outputs": [],
   "source": [
    "#clicking next button\n",
    "next_btn=driver.find_element(By.CLASS_NAME,\"_1LKTO3\")\n",
    "next_btn.click()"
   ]
  },
  {
   "cell_type": "code",
   "execution_count": 155,
   "id": "c84a389c",
   "metadata": {},
   "outputs": [
    {
     "data": {
      "text/plain": [
       "40"
      ]
     },
     "execution_count": 155,
     "metadata": {},
     "output_type": "execute_result"
    }
   ],
   "source": [
    "brand2=[]\n",
    "brand2_tags=driver.find_elements(By.XPATH,'//div[@class=\"_2WkVRV\"]')\n",
    "for i in brand2_tags:\n",
    "    brand2.append(i.text)\n",
    "len(brand2)"
   ]
  },
  {
   "cell_type": "code",
   "execution_count": 157,
   "id": "0188bd74",
   "metadata": {},
   "outputs": [
    {
     "data": {
      "text/plain": [
       "40"
      ]
     },
     "execution_count": 157,
     "metadata": {},
     "output_type": "execute_result"
    }
   ],
   "source": [
    "#product description\n",
    "pro2=[]\n",
    "pro2_tags=driver.find_elements(By.XPATH,'//a[@class=\"IRpwTa\"]')\n",
    "for i in pro2_tags:\n",
    "    pro2.append(i.text)\n",
    "len(pro2)"
   ]
  },
  {
   "cell_type": "code",
   "execution_count": 158,
   "id": "01a1a1ea",
   "metadata": {},
   "outputs": [
    {
     "data": {
      "text/plain": [
       "40"
      ]
     },
     "execution_count": 158,
     "metadata": {},
     "output_type": "execute_result"
    }
   ],
   "source": [
    "#price description\n",
    "price2=[]\n",
    "price2_tags=driver.find_elements(By.XPATH,'//div[@class=\"_30jeq3\"]')\n",
    "for i in price2_tags:\n",
    "    price2.append(i.text)\n",
    "len(price2)"
   ]
  },
  {
   "cell_type": "code",
   "execution_count": 159,
   "id": "748cd4f3",
   "metadata": {},
   "outputs": [
    {
     "data": {
      "text/plain": [
       "40"
      ]
     },
     "execution_count": 159,
     "metadata": {},
     "output_type": "execute_result"
    }
   ],
   "source": [
    "#discount\n",
    "dis2=[]\n",
    "dis2_tags=driver.find_elements(By.XPATH,'//div[@class=\"_3Ay6Sb\"]')\n",
    "for i in dis2_tags:\n",
    "    dis2.append(i.text)\n",
    "len(dis2)"
   ]
  },
  {
   "cell_type": "code",
   "execution_count": 165,
   "id": "3572d3a8",
   "metadata": {},
   "outputs": [],
   "source": [
    "#clicking next button\n",
    "next_btn=driver.find_element(By.CLASS_NAME,\"_1LKTO3\")\n",
    "next_btn.click()"
   ]
  },
  {
   "cell_type": "code",
   "execution_count": 166,
   "id": "1fa650f3",
   "metadata": {},
   "outputs": [
    {
     "data": {
      "text/plain": [
       "20"
      ]
     },
     "execution_count": 166,
     "metadata": {},
     "output_type": "execute_result"
    }
   ],
   "source": [
    "#brand\n",
    "brand3=[]\n",
    "brand3_tags=driver.find_elements(By.XPATH,'//div[@class=\"_2WkVRV\"]')\n",
    "for i in brand3_tags[0:20]:\n",
    "    brand3.append(i.text)\n",
    "len(brand3)"
   ]
  },
  {
   "cell_type": "code",
   "execution_count": 167,
   "id": "ee43076a",
   "metadata": {},
   "outputs": [
    {
     "data": {
      "text/plain": [
       "20"
      ]
     },
     "execution_count": 167,
     "metadata": {},
     "output_type": "execute_result"
    }
   ],
   "source": [
    "#product description\n",
    "pro3=[]\n",
    "pro3_tags=driver.find_elements(By.XPATH,'//a[@class=\"IRpwTa\"]')\n",
    "for i in pro3_tags[0:20]:\n",
    "    pro3.append(i.text)\n",
    "len(pro3)"
   ]
  },
  {
   "cell_type": "code",
   "execution_count": 168,
   "id": "db6a6b2f",
   "metadata": {},
   "outputs": [
    {
     "data": {
      "text/plain": [
       "20"
      ]
     },
     "execution_count": 168,
     "metadata": {},
     "output_type": "execute_result"
    }
   ],
   "source": [
    "#price\n",
    "price3=[]\n",
    "price3_tags=driver.find_elements(By.XPATH,'//div[@class=\"_30jeq3\"]')\n",
    "for i in price3_tags[0:20]:\n",
    "    price3.append(i.text)\n",
    "len(price3)"
   ]
  },
  {
   "cell_type": "code",
   "execution_count": 169,
   "id": "be1144c1",
   "metadata": {},
   "outputs": [
    {
     "data": {
      "text/plain": [
       "20"
      ]
     },
     "execution_count": 169,
     "metadata": {},
     "output_type": "execute_result"
    }
   ],
   "source": [
    "#discount\n",
    "dis3=[]\n",
    "dis3_tags=driver.find_elements(By.XPATH,'//div[@class=\"_3Ay6Sb\"]')\n",
    "for i in dis3_tags[0:20]:\n",
    "    dis3.append(i.text)\n",
    "len(dis3)"
   ]
  },
  {
   "cell_type": "code",
   "execution_count": 172,
   "id": "f52401d5",
   "metadata": {},
   "outputs": [],
   "source": [
    "driver.close()"
   ]
  },
  {
   "cell_type": "markdown",
   "id": "aec49053",
   "metadata": {},
   "source": [
    "# ANS-5-Desired webpage is deleted"
   ]
  },
  {
   "cell_type": "markdown",
   "id": "87dbae52",
   "metadata": {},
   "source": [
    "# ANS-6-Scrape data for first 100 sneakers on flipkart.com"
   ]
  },
  {
   "cell_type": "code",
   "execution_count": 173,
   "id": "00a517fc",
   "metadata": {},
   "outputs": [],
   "source": [
    "#let's first connect to web driver\n",
    "driver=webdriver.Chrome(r\"C:\\Users\\OM RAJ PANDEY\\Desktop\\jupyter\\chromedriver.exe\")"
   ]
  },
  {
   "cell_type": "code",
   "execution_count": 174,
   "id": "bf0a1309",
   "metadata": {},
   "outputs": [],
   "source": [
    "#let's maximize the automated chrome window\n",
    "driver.maximize_window()"
   ]
  },
  {
   "cell_type": "code",
   "execution_count": 175,
   "id": "78683feb",
   "metadata": {},
   "outputs": [],
   "source": [
    "#Opening up flipkart.com website on automated chrome window\n",
    "url='https://www.flipkart.com/'\n",
    "driver.get(url)"
   ]
  },
  {
   "cell_type": "code",
   "execution_count": 176,
   "id": "9a94e6b0",
   "metadata": {},
   "outputs": [],
   "source": [
    "#finding web element for search product bar\n",
    "search_product=driver.find_element(By.CLASS_NAME,\"_3704LK\")\n",
    "search_product.send_keys(\"Sneakers\")"
   ]
  },
  {
   "cell_type": "code",
   "execution_count": 177,
   "id": "69578993",
   "metadata": {},
   "outputs": [],
   "source": [
    "#Clicking the search icon\n",
    "search_btn=driver.find_element(By.CLASS_NAME,\"L0Z3Pu\")\n",
    "search_btn.click()"
   ]
  },
  {
   "cell_type": "code",
   "execution_count": 178,
   "id": "8247e1af",
   "metadata": {},
   "outputs": [
    {
     "data": {
      "text/plain": [
       "['BIRDE',\n",
       " 'BIRDE',\n",
       " 'RED TAPE',\n",
       " 'RED TAPE',\n",
       " 'Labbin',\n",
       " 'TR',\n",
       " 'TR',\n",
       " 'BIRDE',\n",
       " 'BIRDE',\n",
       " 'Robbie jones',\n",
       " 'Zixer',\n",
       " 'Kraasa',\n",
       " 'BRUTON',\n",
       " 'Kraasa',\n",
       " 'PUMA',\n",
       " 'Magnolia',\n",
       " 'Zixer',\n",
       " 'Zixer',\n",
       " 'Robbie jones',\n",
       " 'Deals4you',\n",
       " 'PUMA',\n",
       " 'DRESTA',\n",
       " 'BRUTON',\n",
       " 'World Wear Footwear',\n",
       " 'SCATCHITE',\n",
       " 'BRUTON',\n",
       " 'DRESTA',\n",
       " 'GVR',\n",
       " 'T-ROCK',\n",
       " 'asics',\n",
       " 'PUMA',\n",
       " 'asian',\n",
       " 'ASTEROID',\n",
       " 'RapidBox',\n",
       " 'PUMA',\n",
       " 'BRUTON',\n",
       " 'PUMA',\n",
       " 'PUMA',\n",
       " 'Sparx',\n",
       " 'DUCATI']"
      ]
     },
     "execution_count": 178,
     "metadata": {},
     "output_type": "execute_result"
    }
   ],
   "source": [
    "brand=[]\n",
    "brand_tags=driver.find_elements(By.XPATH,'//div[@class=\"_2WkVRV\"]')\n",
    "for i in brand_tags:\n",
    "    brand.append(i.text)\n",
    "brand"
   ]
  },
  {
   "cell_type": "code",
   "execution_count": 179,
   "id": "085ff350",
   "metadata": {},
   "outputs": [
    {
     "data": {
      "text/plain": [
       "40"
      ]
     },
     "execution_count": 179,
     "metadata": {},
     "output_type": "execute_result"
    }
   ],
   "source": [
    "len(brand)"
   ]
  },
  {
   "cell_type": "code",
   "execution_count": 180,
   "id": "2ffb8eea",
   "metadata": {},
   "outputs": [
    {
     "data": {
      "text/plain": [
       "39"
      ]
     },
     "execution_count": 180,
     "metadata": {},
     "output_type": "execute_result"
    }
   ],
   "source": [
    "#product description\n",
    "pro_des=[]\n",
    "pro_tags=driver.find_elements(By.XPATH,'//a[@class=\"IRpwTa\"]')\n",
    "for i in pro_tags:\n",
    "    pro_des.append(i.text)\n",
    "len(pro_des)"
   ]
  },
  {
   "cell_type": "code",
   "execution_count": 181,
   "id": "5e95898a",
   "metadata": {},
   "outputs": [
    {
     "data": {
      "text/plain": [
       "40"
      ]
     },
     "execution_count": 181,
     "metadata": {},
     "output_type": "execute_result"
    }
   ],
   "source": [
    "#price\n",
    "price=[]\n",
    "price_tags=driver.find_elements(By.XPATH,'//div[@class=\"_30jeq3\"]')\n",
    "for i in price_tags:\n",
    "    price.append(i.text)\n",
    "len(price)"
   ]
  },
  {
   "cell_type": "code",
   "execution_count": 182,
   "id": "8cc76925",
   "metadata": {},
   "outputs": [
    {
     "data": {
      "text/plain": [
       "40"
      ]
     },
     "execution_count": 182,
     "metadata": {},
     "output_type": "execute_result"
    }
   ],
   "source": [
    "#discount\n",
    "discount=[]\n",
    "discount_tags=driver.find_elements(By.XPATH,'//div[@class=\"_3Ay6Sb\"]')\n",
    "for i in discount_tags:\n",
    "    discount.append(i.text)\n",
    "len(discount)"
   ]
  },
  {
   "cell_type": "code",
   "execution_count": 183,
   "id": "3f8bb61f",
   "metadata": {},
   "outputs": [],
   "source": [
    "#clicking next button\n",
    "next_btn=driver.find_element(By.CLASS_NAME,\"_1LKTO3\")\n",
    "next_btn.click()"
   ]
  },
  {
   "cell_type": "code",
   "execution_count": 184,
   "id": "62ec99e5",
   "metadata": {},
   "outputs": [
    {
     "data": {
      "text/plain": [
       "40"
      ]
     },
     "execution_count": 184,
     "metadata": {},
     "output_type": "execute_result"
    }
   ],
   "source": [
    "brand2=[]\n",
    "brand2_tags=driver.find_elements(By.XPATH,'//div[@class=\"_2WkVRV\"]')\n",
    "for i in brand2_tags:\n",
    "    brand2.append(i.text)\n",
    "len(brand2)"
   ]
  },
  {
   "cell_type": "code",
   "execution_count": 185,
   "id": "b7f3ae20",
   "metadata": {},
   "outputs": [
    {
     "data": {
      "text/plain": [
       "40"
      ]
     },
     "execution_count": 185,
     "metadata": {},
     "output_type": "execute_result"
    }
   ],
   "source": [
    "#product description\n",
    "pro2=[]\n",
    "pro2_tags=driver.find_elements(By.XPATH,'//a[@class=\"IRpwTa\"]')\n",
    "for i in pro2_tags:\n",
    "    pro2.append(i.text)\n",
    "len(pro2)"
   ]
  },
  {
   "cell_type": "code",
   "execution_count": 186,
   "id": "c3b1fb78",
   "metadata": {},
   "outputs": [
    {
     "data": {
      "text/plain": [
       "40"
      ]
     },
     "execution_count": 186,
     "metadata": {},
     "output_type": "execute_result"
    }
   ],
   "source": [
    "#price description\n",
    "price2=[]\n",
    "price2_tags=driver.find_elements(By.XPATH,'//div[@class=\"_30jeq3\"]')\n",
    "for i in price2_tags:\n",
    "    price2.append(i.text)\n",
    "len(price2)"
   ]
  },
  {
   "cell_type": "code",
   "execution_count": 187,
   "id": "1b8dcd6f",
   "metadata": {},
   "outputs": [
    {
     "data": {
      "text/plain": [
       "40"
      ]
     },
     "execution_count": 187,
     "metadata": {},
     "output_type": "execute_result"
    }
   ],
   "source": [
    "#discount\n",
    "dis2=[]\n",
    "dis2_tags=driver.find_elements(By.XPATH,'//div[@class=\"_3Ay6Sb\"]')\n",
    "for i in dis2_tags:\n",
    "    dis2.append(i.text)\n",
    "len(dis2)"
   ]
  },
  {
   "cell_type": "code",
   "execution_count": 188,
   "id": "188dc5f8",
   "metadata": {},
   "outputs": [],
   "source": [
    "#clicking next button\n",
    "next_btn=driver.find_element(By.CLASS_NAME,\"_1LKTO3\")\n",
    "next_btn.click()"
   ]
  },
  {
   "cell_type": "code",
   "execution_count": 189,
   "id": "32dd20fe",
   "metadata": {},
   "outputs": [
    {
     "data": {
      "text/plain": [
       "20"
      ]
     },
     "execution_count": 189,
     "metadata": {},
     "output_type": "execute_result"
    }
   ],
   "source": [
    "#brand\n",
    "brand3=[]\n",
    "brand3_tags=driver.find_elements(By.XPATH,'//div[@class=\"_2WkVRV\"]')\n",
    "for i in brand3_tags[0:20]:\n",
    "    brand3.append(i.text)\n",
    "len(brand3)"
   ]
  },
  {
   "cell_type": "code",
   "execution_count": 190,
   "id": "59fcf147",
   "metadata": {},
   "outputs": [
    {
     "data": {
      "text/plain": [
       "20"
      ]
     },
     "execution_count": 190,
     "metadata": {},
     "output_type": "execute_result"
    }
   ],
   "source": [
    "#product description\n",
    "pro3=[]\n",
    "pro3_tags=driver.find_elements(By.XPATH,'//a[@class=\"IRpwTa\"=\"IRpwTa\"]')\n",
    "for i in pro3_tags[0:20]:\n",
    "    pro3.append(i.text)\n",
    "len(pro3)"
   ]
  },
  {
   "cell_type": "code",
   "execution_count": 191,
   "id": "53499e76",
   "metadata": {},
   "outputs": [
    {
     "data": {
      "text/plain": [
       "20"
      ]
     },
     "execution_count": 191,
     "metadata": {},
     "output_type": "execute_result"
    }
   ],
   "source": [
    "#price\n",
    "price3=[]\n",
    "price3_tags=driver.find_elements(By.XPATH,'//div[@class=\"_30jeq3\"]')\n",
    "for i in price3_tags[0:20]:\n",
    "    price3.append(i.text)\n",
    "len(price3)"
   ]
  },
  {
   "cell_type": "code",
   "execution_count": 192,
   "id": "6367419e",
   "metadata": {},
   "outputs": [
    {
     "data": {
      "text/plain": [
       "20"
      ]
     },
     "execution_count": 192,
     "metadata": {},
     "output_type": "execute_result"
    }
   ],
   "source": [
    "#discount\n",
    "dis3=[]\n",
    "dis3_tags=driver.find_elements(By.XPATH,'//div[@class=\"_3Ay6Sb\"]')\n",
    "for i in dis3_tags[0:20]:\n",
    "    dis3.append(i.text)\n",
    "len(dis3)"
   ]
  },
  {
   "cell_type": "code",
   "execution_count": 193,
   "id": "2d525998",
   "metadata": {},
   "outputs": [],
   "source": [
    "driver.close()"
   ]
  },
  {
   "cell_type": "markdown",
   "id": "eed5a79d",
   "metadata": {},
   "source": [
    "# ANS-7-Python program to scrape shoes data from myntra.com"
   ]
  },
  {
   "cell_type": "code",
   "execution_count": 194,
   "id": "42a40d95",
   "metadata": {},
   "outputs": [],
   "source": [
    "driver=webdriver.Chrome(r\"C:\\Users\\OM RAJ PANDEY\\Desktop\\jupyter\\chromedriver.exe\")"
   ]
  },
  {
   "cell_type": "code",
   "execution_count": 195,
   "id": "21fe1bc7",
   "metadata": {},
   "outputs": [],
   "source": [
    "#let's maximize the automated chrome window\n",
    "driver.maximize_window()"
   ]
  },
  {
   "cell_type": "code",
   "execution_count": 196,
   "id": "af83d55a",
   "metadata": {},
   "outputs": [],
   "source": [
    "#Opening up myntra.com website on automated chrome window\n",
    "url='https://www.myntra.com/shoes'\n",
    "driver.get(url)"
   ]
  },
  {
   "cell_type": "markdown",
   "id": "7e2ccc7f",
   "metadata": {},
   "source": [
    "# Inspect and cntrl+shift+c both method for finding the class name are not working"
   ]
  },
  {
   "cell_type": "code",
   "execution_count": 198,
   "id": "157ad3e9",
   "metadata": {},
   "outputs": [],
   "source": [
    "driver.close()"
   ]
  },
  {
   "cell_type": "markdown",
   "id": "adc3b960",
   "metadata": {},
   "source": [
    "# ANS-8-A python program to scrape laptop's data fro amazon website."
   ]
  },
  {
   "cell_type": "code",
   "execution_count": 206,
   "id": "abc5f187",
   "metadata": {},
   "outputs": [],
   "source": [
    "driver=webdriver.Chrome(r\"C:\\Users\\OM RAJ PANDEY\\Desktop\\jupyter\\chromedriver.exe\")"
   ]
  },
  {
   "cell_type": "code",
   "execution_count": 208,
   "id": "24231909",
   "metadata": {},
   "outputs": [],
   "source": [
    "#let's maximize the automated chrome window\n",
    "driver.maximize_window()"
   ]
  },
  {
   "cell_type": "code",
   "execution_count": 209,
   "id": "696b9a33",
   "metadata": {},
   "outputs": [],
   "source": [
    "#Opening up amazon website on automated chrome window\n",
    "url='https://www.amazon.in/'\n",
    "driver.get(url)"
   ]
  },
  {
   "cell_type": "code",
   "execution_count": 212,
   "id": "1c5b4f55",
   "metadata": {},
   "outputs": [],
   "source": [
    "#finding web element for search job bar\n",
    "search_job=driver.find_element(By.XPATH,'//input[@class=\"nav-input nav-progressive-attribute\"]')\n",
    "search_job.send_keys(\"Laptop\")"
   ]
  },
  {
   "cell_type": "code",
   "execution_count": 214,
   "id": "53bcf7aa",
   "metadata": {},
   "outputs": [],
   "source": [
    "#clicking the search button\n",
    "search_btn=driver.find_element(By.XPATH,'//span[@class=\"nav-search-submit-text nav-sprite nav-progressive-attribute\"]')\n",
    "search_btn.click()"
   ]
  },
  {
   "cell_type": "code",
   "execution_count": 215,
   "id": "7e10e99f",
   "metadata": {},
   "outputs": [],
   "source": [
    "#Appy cpu filter\n",
    "cpu_btn=driver.find_element(By.XPATH,'//span[@class=\"a-size-base a-color-base\"]')\n",
    "cpu_btn.click()"
   ]
  },
  {
   "cell_type": "code",
   "execution_count": 225,
   "id": "bcc51ea7",
   "metadata": {},
   "outputs": [
    {
     "data": {
      "text/plain": [
       "['HP Pavilion x360 11th Gen Intel Core i7 14 inch(35.6 cm) FHD,IPS, Multitouch 2-in-1 Laptop(16GB RAM/512GB SSD/Backlit KB/Intel Iris Xe Graphics/Pen/Alexa Built-in/MSO/1.52Kg) 14-dy1050TU, Spruce Blue',\n",
       " 'Lenovo ThinkBook 15 Intel 11th Gen Core i7 15.6\"(39.62 cm) FHD Thin and Light Laptop (16GB/512GB SSD/Windows 11 Home/MS Office H&S 2021/Iris® Xe Graphics/Backlit/Mineral Grey/1.7 Kg) 20VE00W4IH',\n",
       " 'ASUS Vivobook 15, 15.6-inch (39.62 cms) FHD, Intel Core i7-1065G7 10th Gen, Thin and Light Laptop (16GB/512GB SSD/Iris Plus Graphics/Windows 11/Office 2021/Silver/1.8 kg), X515JA-EJ701WS',\n",
       " 'Dell Inspiron 5320 Laptop, i7-1260P, 16GB LPDDR5, 512GB SSD, Integrated, 13.3\" (33.78Cms) QHD+ WVA AG 300 nits, Win 11+ MSO\\'21, Platinum Silver (D560754WIN9S, 1.25Kgs)',\n",
       " 'Lenovo IdeaPad Slim 5 12th Gen Intel Core i7 15.6\"(39.62cm) FHD IPS Laptop (16GB/512GB SSD/Win 11/Office 2021/Backlit KB/Fingerprint/FHD Camera/Alexa/3 Month Game Pass/Storm Grey/1.85Kg), 82SF004XIN',\n",
       " '(Renewed) HP ProBook 430 G3 6th Gen Intel Core i7 Thin & Light HD Laptop (8 GB DDR4 RAM/256 GB SSD/13.3\" (33.8 cm)/Windows 11/MS Office/Wifi/Bluetooth 4.0/Webcam/Integrated Graphics)',\n",
       " 'HP Pavilion Plus, 12th Gen Intel Core i7 16GB RAM/1TB SSD 14 inch(35.6 cm),OLED,400 nits,UWVA, Eye Safe Laptop/Intel Iris Xe Graphics/Backlit KB/B&O/FPR/Win 11/Alexa Built-in/MSO 2021, 14-eh0024TU',\n",
       " 'Acer Nitro 5 Gaming Laptop/12th Gen Intel Core i7-12700H Processor 14core/15.6\"(39.6cm) FHD 144Hz Display(16GB/512GB SSD/1TB HDD/RTX 3050Ti Graphics/Windows 11/RGB),AN515-58 + Xbox Game Pass Ultimate',\n",
       " '(Renewed) HP Workstation Zbook Intel Core i7-4810MQ Quad Core Processor , 4 GB Ram & 128 GB SSD, 15.6 Inches with Intel & Nvidia K2100M Dual Graphics with FHD Screen 1080p Laptop Computer',\n",
       " '(Renewed) HP ProBook 430 G3 6th Gen Intel Core i7 Thin & Light HD Laptop (8 GB DDR4 RAM/500 GB HDD/13.3\" (33.8 cm)/Windows 11/MS Office/Wifi/Bluetooth 4.0/Webcam/Integrated Graphics)']"
      ]
     },
     "execution_count": 225,
     "metadata": {},
     "output_type": "execute_result"
    }
   ],
   "source": [
    "#Extracting title 1\n",
    "title_1=[]\n",
    "title_tags=driver.find_elements(By.XPATH,'//span[@class=\"a-size-medium a-color-base a-text-normal\"]')\n",
    "for i in title_tags[0:10]:\n",
    "    title_1.append(i.text)\n",
    "title_1"
   ]
  },
  {
   "cell_type": "code",
   "execution_count": 226,
   "id": "0deb2865",
   "metadata": {},
   "outputs": [
    {
     "data": {
      "text/plain": [
       "10"
      ]
     },
     "execution_count": 226,
     "metadata": {},
     "output_type": "execute_result"
    }
   ],
   "source": [
    "len(title_1)"
   ]
  },
  {
   "cell_type": "code",
   "execution_count": 223,
   "id": "5eb1c96e",
   "metadata": {},
   "outputs": [
    {
     "data": {
      "text/plain": [
       "['', '', '', '']"
      ]
     },
     "execution_count": 223,
     "metadata": {},
     "output_type": "execute_result"
    }
   ],
   "source": [
    "#Extracting rating\n",
    "rating_1=[]\n",
    "rating_tags=driver.find_elements(By.XPATH,'//I[@class=\"a-icon a-icon-star-small a-star-small-4-5 aok-align-bottom\"]')\n",
    "for i in rating_tags[0:10]:\n",
    "    rating.append(i.text)\n",
    "rating"
   ]
  },
  {
   "cell_type": "code",
   "execution_count": 224,
   "id": "ffc73f3f",
   "metadata": {},
   "outputs": [
    {
     "data": {
      "text/plain": [
       "['80,990',\n",
       " '77,500',\n",
       " '84,918',\n",
       " '83,990',\n",
       " '25,895',\n",
       " '93,999',\n",
       " '1,04,819',\n",
       " '21,990',\n",
       " '22,999',\n",
       " '25,990']"
      ]
     },
     "execution_count": 224,
     "metadata": {},
     "output_type": "execute_result"
    }
   ],
   "source": [
    "#price\n",
    "price_1=[]\n",
    "price_tags=driver.find_elements(By.XPATH,'//span[@class=\"a-price-whole\"]')\n",
    "for i in price_tags[0:10]:\n",
    "    price_1.append(i.text)\n",
    "price_1"
   ]
  },
  {
   "cell_type": "code",
   "execution_count": 227,
   "id": "e3b6247e",
   "metadata": {},
   "outputs": [],
   "source": [
    "driver.close()"
   ]
  },
  {
   "cell_type": "markdown",
   "id": "ebbab1d1",
   "metadata": {},
   "source": [
    "# ANS-9-A python program to scrape data for top 1000 quotes."
   ]
  },
  {
   "cell_type": "code",
   "execution_count": 237,
   "id": "b5ea8a22",
   "metadata": {},
   "outputs": [],
   "source": [
    "driver=webdriver.Chrome(r\"C:\\Users\\OM RAJ PANDEY\\Desktop\\jupyter\\chromedriver.exe\")"
   ]
  },
  {
   "cell_type": "code",
   "execution_count": 238,
   "id": "580b0a8c",
   "metadata": {},
   "outputs": [],
   "source": [
    "#let's maximize the automated chrome window\n",
    "driver.maximize_window()"
   ]
  },
  {
   "cell_type": "code",
   "execution_count": 239,
   "id": "2f24ab55",
   "metadata": {},
   "outputs": [],
   "source": [
    "#Opening up azquotes website on automated chrome window\n",
    "url='https://www.azquotes.com/'\n",
    "driver.get(url)"
   ]
  },
  {
   "cell_type": "code",
   "execution_count": 244,
   "id": "61d19e3f",
   "metadata": {},
   "outputs": [
    {
     "data": {
      "text/plain": [
       "100"
      ]
     },
     "execution_count": 244,
     "metadata": {},
     "output_type": "execute_result"
    }
   ],
   "source": [
    "#extracting quotes\n",
    "quotes=[]\n",
    "quotes_tags=driver.find_elements(By.XPATH,'//a[@class=\"title\"]')\n",
    "for i in quotes_tags:\n",
    "    quotes.append(i.text)\n",
    "len(quotes)"
   ]
  },
  {
   "cell_type": "code",
   "execution_count": 245,
   "id": "e66e78f2",
   "metadata": {},
   "outputs": [
    {
     "data": {
      "text/plain": [
       "100"
      ]
     },
     "execution_count": 245,
     "metadata": {},
     "output_type": "execute_result"
    }
   ],
   "source": [
    "#author\n",
    "author=[]\n",
    "author_tags=driver.find_elements(By.XPATH,'//div[@class=\"author\"]')\n",
    "for i in author_tags:\n",
    "    author.append(i.text)\n",
    "len(author)"
   ]
  },
  {
   "cell_type": "code",
   "execution_count": 246,
   "id": "441de3f8",
   "metadata": {},
   "outputs": [
    {
     "data": {
      "text/plain": [
       "100"
      ]
     },
     "execution_count": 246,
     "metadata": {},
     "output_type": "execute_result"
    }
   ],
   "source": [
    "#type\n",
    "type1=[]\n",
    "type1_tags=driver.find_elements(By.XPATH,'//div[@class=\"tags\"]')\n",
    "for i in type1_tags:\n",
    "    type1.append(i.text)\n",
    "len(type1)"
   ]
  },
  {
   "cell_type": "code",
   "execution_count": 247,
   "id": "1672f53e",
   "metadata": {},
   "outputs": [
    {
     "data": {
      "text/plain": [
       "100"
      ]
     },
     "execution_count": 247,
     "metadata": {},
     "output_type": "execute_result"
    }
   ],
   "source": [
    "#quotes\n",
    "quotes2=[]\n",
    "quotes2_tags=driver.find_elements(By.XPATH,'//a[@class=\"title\"]')\n",
    "for i in quotes2_tags:\n",
    "    quotes2.append(i.text)\n",
    "len(quotes2)"
   ]
  },
  {
   "cell_type": "code",
   "execution_count": 248,
   "id": "bbfd16aa",
   "metadata": {},
   "outputs": [
    {
     "data": {
      "text/plain": [
       "100"
      ]
     },
     "execution_count": 248,
     "metadata": {},
     "output_type": "execute_result"
    }
   ],
   "source": [
    "#author\n",
    "author2=[]\n",
    "author2_tags=driver.find_elements(By.XPATH,'//div[@class=\"author\"]')\n",
    "for i in author2_tags:\n",
    "    author2.append(i.text)\n",
    "len(author2)"
   ]
  },
  {
   "cell_type": "code",
   "execution_count": 249,
   "id": "1210a340",
   "metadata": {},
   "outputs": [
    {
     "data": {
      "text/plain": [
       "100"
      ]
     },
     "execution_count": 249,
     "metadata": {},
     "output_type": "execute_result"
    }
   ],
   "source": [
    "#type\n",
    "type2=[]\n",
    "type2_tags=driver.find_elements(By.XPATH,'//div[@class=\"tags\"]')\n",
    "for i in type2_tags:\n",
    "    type2.append(i.text)\n",
    "len(type2)"
   ]
  },
  {
   "cell_type": "code",
   "execution_count": 250,
   "id": "ed6a56f5",
   "metadata": {},
   "outputs": [
    {
     "data": {
      "text/plain": [
       "100"
      ]
     },
     "execution_count": 250,
     "metadata": {},
     "output_type": "execute_result"
    }
   ],
   "source": [
    "#quotes\n",
    "quotes3=[]\n",
    "quotes3_tags=driver.find_elements(By.XPATH,'//a[@class=\"title\"]')\n",
    "for i in quotes3_tags:\n",
    "    quotes3.append(i.text)\n",
    "len(quotes3)"
   ]
  },
  {
   "cell_type": "code",
   "execution_count": 251,
   "id": "78d20971",
   "metadata": {},
   "outputs": [
    {
     "data": {
      "text/plain": [
       "100"
      ]
     },
     "execution_count": 251,
     "metadata": {},
     "output_type": "execute_result"
    }
   ],
   "source": [
    "#author\n",
    "author3=[]\n",
    "author3_tags=driver.find_elements(By.XPATH,'//div[@class=\"author\"]')\n",
    "for i in author3_tags:\n",
    "    author3.append(i.text)\n",
    "len(author3)"
   ]
  },
  {
   "cell_type": "code",
   "execution_count": 252,
   "id": "6d88894a",
   "metadata": {},
   "outputs": [
    {
     "data": {
      "text/plain": [
       "100"
      ]
     },
     "execution_count": 252,
     "metadata": {},
     "output_type": "execute_result"
    }
   ],
   "source": [
    "#type\n",
    "type3=[]\n",
    "type3_tags=driver.find_elements(By.XPATH,'//div[@class=\"tags\"]')\n",
    "for i in type3_tags:\n",
    "    type3.append(i.text)\n",
    "len(type3)"
   ]
  },
  {
   "cell_type": "code",
   "execution_count": 253,
   "id": "1c28b8c9",
   "metadata": {},
   "outputs": [
    {
     "data": {
      "text/plain": [
       "100"
      ]
     },
     "execution_count": 253,
     "metadata": {},
     "output_type": "execute_result"
    }
   ],
   "source": [
    "#quotes\n",
    "quotes4=[]\n",
    "quotes4_tags=driver.find_elements(By.XPATH,'//a[@class=\"title\"]')\n",
    "for i in quotes4_tags:\n",
    "    quotes4.append(i.text)\n",
    "len(quotes4)"
   ]
  },
  {
   "cell_type": "code",
   "execution_count": 254,
   "id": "6e814b7c",
   "metadata": {},
   "outputs": [
    {
     "data": {
      "text/plain": [
       "100"
      ]
     },
     "execution_count": 254,
     "metadata": {},
     "output_type": "execute_result"
    }
   ],
   "source": [
    "#author\n",
    "author4=[]\n",
    "author4_tags=driver.find_elements(By.XPATH,'//div[@class=\"author\"]')\n",
    "for i in author4_tags:\n",
    "    author4.append(i.text)\n",
    "len(author4)"
   ]
  },
  {
   "cell_type": "code",
   "execution_count": 255,
   "id": "b8bf36f1",
   "metadata": {},
   "outputs": [
    {
     "data": {
      "text/plain": [
       "100"
      ]
     },
     "execution_count": 255,
     "metadata": {},
     "output_type": "execute_result"
    }
   ],
   "source": [
    "#type\n",
    "type4=[]\n",
    "type4_tags=driver.find_elements(By.XPATH,'//div[@class=\"tags\"]')\n",
    "for i in type4_tags:\n",
    "    type4.append(i.text)\n",
    "len(type4)"
   ]
  },
  {
   "cell_type": "code",
   "execution_count": 259,
   "id": "8cb41ba8",
   "metadata": {},
   "outputs": [
    {
     "data": {
      "text/plain": [
       "100"
      ]
     },
     "execution_count": 259,
     "metadata": {},
     "output_type": "execute_result"
    }
   ],
   "source": [
    "#quotes\n",
    "quotes5=[]\n",
    "quotes5_tags=driver.find_elements(By.XPATH,'//a[@class=\"title\"]')\n",
    "for i in quotes5_tags:\n",
    "    quotes5.append(i.text)\n",
    "len(quotes5)"
   ]
  },
  {
   "cell_type": "code",
   "execution_count": 260,
   "id": "390d9978",
   "metadata": {},
   "outputs": [
    {
     "data": {
      "text/plain": [
       "100"
      ]
     },
     "execution_count": 260,
     "metadata": {},
     "output_type": "execute_result"
    }
   ],
   "source": [
    "#author\n",
    "author5=[]\n",
    "author5_tags=driver.find_elements(By.XPATH,'//div[@class=\"author\"]')\n",
    "for i in author5_tags:\n",
    "    author5.append(i.text)\n",
    "len(author5)"
   ]
  },
  {
   "cell_type": "code",
   "execution_count": 261,
   "id": "7ab41b5a",
   "metadata": {},
   "outputs": [
    {
     "data": {
      "text/plain": [
       "100"
      ]
     },
     "execution_count": 261,
     "metadata": {},
     "output_type": "execute_result"
    }
   ],
   "source": [
    "#type\n",
    "type5=[]\n",
    "type5_tags=driver.find_elements(By.XPATH,'//div[@class=\"tags\"]')\n",
    "for i in type5_tags:\n",
    "    type5.append(i.text)\n",
    "len(type5)"
   ]
  },
  {
   "cell_type": "code",
   "execution_count": 262,
   "id": "98943ccb",
   "metadata": {},
   "outputs": [
    {
     "data": {
      "text/plain": [
       "100"
      ]
     },
     "execution_count": 262,
     "metadata": {},
     "output_type": "execute_result"
    }
   ],
   "source": [
    "#quotes\n",
    "quotes6=[]\n",
    "quotes6_tags=driver.find_elements(By.XPATH,'//a[@class=\"title\"]')\n",
    "for i in quotes6_tags:\n",
    "    quotes6.append(i.text)\n",
    "len(quotes6)"
   ]
  },
  {
   "cell_type": "code",
   "execution_count": 263,
   "id": "fd94c6cc",
   "metadata": {},
   "outputs": [
    {
     "data": {
      "text/plain": [
       "100"
      ]
     },
     "execution_count": 263,
     "metadata": {},
     "output_type": "execute_result"
    }
   ],
   "source": [
    "#author\n",
    "author6=[]\n",
    "author6_tags=driver.find_elements(By.XPATH,'//div[@class=\"author\"]')\n",
    "for i in author6_tags:\n",
    "    author6.append(i.text)\n",
    "len(author6)"
   ]
  },
  {
   "cell_type": "code",
   "execution_count": 264,
   "id": "25da36fd",
   "metadata": {},
   "outputs": [
    {
     "data": {
      "text/plain": [
       "100"
      ]
     },
     "execution_count": 264,
     "metadata": {},
     "output_type": "execute_result"
    }
   ],
   "source": [
    "#type\n",
    "type6=[]\n",
    "type6_tags=driver.find_elements(By.XPATH,'//div[@class=\"tags\"]')\n",
    "for i in type6_tags:\n",
    "    type6.append(i.text)\n",
    "len(type6)"
   ]
  },
  {
   "cell_type": "code",
   "execution_count": 265,
   "id": "c497dc86",
   "metadata": {},
   "outputs": [
    {
     "data": {
      "text/plain": [
       "100"
      ]
     },
     "execution_count": 265,
     "metadata": {},
     "output_type": "execute_result"
    }
   ],
   "source": [
    "#quotes\n",
    "quotes7=[]\n",
    "quotes7_tags=driver.find_elements(By.XPATH,'//a[@class=\"title\"]')\n",
    "for i in quotes7_tags:\n",
    "    quotes7.append(i.text)\n",
    "len(quotes7)"
   ]
  },
  {
   "cell_type": "code",
   "execution_count": 266,
   "id": "cb34ab16",
   "metadata": {},
   "outputs": [
    {
     "data": {
      "text/plain": [
       "100"
      ]
     },
     "execution_count": 266,
     "metadata": {},
     "output_type": "execute_result"
    }
   ],
   "source": [
    "#author\n",
    "author7=[]\n",
    "author7_tags=driver.find_elements(By.XPATH,'//div[@class=\"author\"]')\n",
    "for i in author7_tags:\n",
    "    author7.append(i.text)\n",
    "len(author7)"
   ]
  },
  {
   "cell_type": "code",
   "execution_count": 267,
   "id": "90c694f8",
   "metadata": {},
   "outputs": [
    {
     "data": {
      "text/plain": [
       "100"
      ]
     },
     "execution_count": 267,
     "metadata": {},
     "output_type": "execute_result"
    }
   ],
   "source": [
    "#type\n",
    "type7=[]\n",
    "type7_tags=driver.find_elements(By.XPATH,'//div[@class=\"tags\"]')\n",
    "for i in type7_tags:\n",
    "    type7.append(i.text)\n",
    "len(type7)"
   ]
  },
  {
   "cell_type": "code",
   "execution_count": 268,
   "id": "6059c652",
   "metadata": {},
   "outputs": [
    {
     "data": {
      "text/plain": [
       "100"
      ]
     },
     "execution_count": 268,
     "metadata": {},
     "output_type": "execute_result"
    }
   ],
   "source": [
    "#quotes\n",
    "quotes8=[]\n",
    "quotes8_tags=driver.find_elements(By.XPATH,'//a[@class=\"title\"]')\n",
    "for i in quotes8_tags:\n",
    "    quotes8.append(i.text)\n",
    "len(quotes8)"
   ]
  },
  {
   "cell_type": "code",
   "execution_count": 269,
   "id": "25d975f5",
   "metadata": {},
   "outputs": [
    {
     "data": {
      "text/plain": [
       "100"
      ]
     },
     "execution_count": 269,
     "metadata": {},
     "output_type": "execute_result"
    }
   ],
   "source": [
    "#author\n",
    "author8=[]\n",
    "author8_tags=driver.find_elements(By.XPATH,'//div[@class=\"author\"]')\n",
    "for i in author8_tags:\n",
    "    author8.append(i.text)\n",
    "len(author8)"
   ]
  },
  {
   "cell_type": "code",
   "execution_count": 270,
   "id": "7382734a",
   "metadata": {},
   "outputs": [
    {
     "data": {
      "text/plain": [
       "100"
      ]
     },
     "execution_count": 270,
     "metadata": {},
     "output_type": "execute_result"
    }
   ],
   "source": [
    "#type\n",
    "type8=[]\n",
    "type8_tags=driver.find_elements(By.XPATH,'//div[@class=\"tags\"]')\n",
    "for i in type8_tags:\n",
    "    type8.append(i.text)\n",
    "len(type8)"
   ]
  },
  {
   "cell_type": "code",
   "execution_count": 271,
   "id": "23ddde0a",
   "metadata": {},
   "outputs": [
    {
     "data": {
      "text/plain": [
       "100"
      ]
     },
     "execution_count": 271,
     "metadata": {},
     "output_type": "execute_result"
    }
   ],
   "source": [
    "#quotes\n",
    "quotes9=[]\n",
    "quotes9_tags=driver.find_elements(By.XPATH,'//a[@class=\"title\"]')\n",
    "for i in quotes9_tags:\n",
    "    quotes9.append(i.text)\n",
    "len(quotes9)"
   ]
  },
  {
   "cell_type": "code",
   "execution_count": 272,
   "id": "09ef6627",
   "metadata": {},
   "outputs": [
    {
     "data": {
      "text/plain": [
       "100"
      ]
     },
     "execution_count": 272,
     "metadata": {},
     "output_type": "execute_result"
    }
   ],
   "source": [
    "#author\n",
    "author9=[]\n",
    "author9_tags=driver.find_elements(By.XPATH,'//div[@class=\"author\"]')\n",
    "for i in author9_tags:\n",
    "    author9.append(i.text)\n",
    "len(author9)"
   ]
  },
  {
   "cell_type": "code",
   "execution_count": 274,
   "id": "055613a0",
   "metadata": {},
   "outputs": [
    {
     "data": {
      "text/plain": [
       "100"
      ]
     },
     "execution_count": 274,
     "metadata": {},
     "output_type": "execute_result"
    }
   ],
   "source": [
    "#type\n",
    "type9=[]\n",
    "type9_tags=driver.find_elements(By.XPATH,'//div[@class=\"tags\"]')\n",
    "for i in type9_tags:\n",
    "    type9.append(i.text)\n",
    "len(type9)"
   ]
  },
  {
   "cell_type": "code",
   "execution_count": 275,
   "id": "4a4982ee",
   "metadata": {},
   "outputs": [
    {
     "data": {
      "text/plain": [
       "100"
      ]
     },
     "execution_count": 275,
     "metadata": {},
     "output_type": "execute_result"
    }
   ],
   "source": [
    "#quotes\n",
    "quotes10=[]\n",
    "quotes10_tags=driver.find_elements(By.XPATH,'//a[@class=\"title\"]')\n",
    "for i in quotes10_tags:\n",
    "    quotes10.append(i.text)\n",
    "len(quotes10)"
   ]
  },
  {
   "cell_type": "code",
   "execution_count": 276,
   "id": "8f2eb273",
   "metadata": {},
   "outputs": [
    {
     "data": {
      "text/plain": [
       "100"
      ]
     },
     "execution_count": 276,
     "metadata": {},
     "output_type": "execute_result"
    }
   ],
   "source": [
    "#author\n",
    "author10=[]\n",
    "author10_tags=driver.find_elements(By.XPATH,'//div[@class=\"author\"]')\n",
    "for i in author10_tags:\n",
    "    author10.append(i.text)\n",
    "len(author10)"
   ]
  },
  {
   "cell_type": "code",
   "execution_count": 277,
   "id": "73f83cdb",
   "metadata": {},
   "outputs": [
    {
     "data": {
      "text/plain": [
       "100"
      ]
     },
     "execution_count": 277,
     "metadata": {},
     "output_type": "execute_result"
    }
   ],
   "source": [
    "#type\n",
    "type10=[]\n",
    "type10_tags=driver.find_elements(By.XPATH,'//div[@class=\"tags\"]')\n",
    "for i in type10_tags:\n",
    "    type10.append(i.text)\n",
    "len(type10)"
   ]
  },
  {
   "cell_type": "code",
   "execution_count": 278,
   "id": "18807c90",
   "metadata": {},
   "outputs": [],
   "source": [
    "driver.close()"
   ]
  },
  {
   "cell_type": "markdown",
   "id": "00399ae8",
   "metadata": {},
   "source": [
    "# ANS-10-A python program to display list of former Prime Minister of India."
   ]
  },
  {
   "cell_type": "code",
   "execution_count": 279,
   "id": "8d20fe7d",
   "metadata": {},
   "outputs": [],
   "source": [
    "driver=webdriver.Chrome(r\"C:\\Users\\OM RAJ PANDEY\\Desktop\\jupyter\\chromedriver.exe\")"
   ]
  },
  {
   "cell_type": "code",
   "execution_count": 280,
   "id": "b52029b9",
   "metadata": {},
   "outputs": [],
   "source": [
    "#let's maximize the automated chrome window\n",
    "driver.maximize_window()"
   ]
  },
  {
   "cell_type": "code",
   "execution_count": 282,
   "id": "765011cd",
   "metadata": {},
   "outputs": [],
   "source": [
    "#Opening up jagranjosh.com website on automated chrome window\n",
    "url='https://www.jagranjosh.com/'\n",
    "driver.get(url)"
   ]
  },
  {
   "cell_type": "code",
   "execution_count": 284,
   "id": "b5b09593",
   "metadata": {},
   "outputs": [
    {
     "data": {
      "text/plain": [
       "['Jawahar Lal Nehru']"
      ]
     },
     "execution_count": 284,
     "metadata": {},
     "output_type": "execute_result"
    }
   ],
   "source": [
    "#Name\n",
    "name=[]\n",
    "name_tags=driver.find_elements(By.XPATH,'/html/body/div[1]/div[2]/div/div[2]/div/div[1]/div/div/div/div[5]/span/div[2]/table/tbody/tr[2]/td[2]/p/strong/a')\n",
    "for i in name_tags:\n",
    "    name.append(i.text)\n",
    "name"
   ]
  },
  {
   "cell_type": "code",
   "execution_count": 285,
   "id": "ebdcac8b",
   "metadata": {},
   "outputs": [
    {
     "data": {
      "text/plain": [
       "['(1889–1964)']"
      ]
     },
     "execution_count": 285,
     "metadata": {},
     "output_type": "execute_result"
    }
   ],
   "source": [
    "#born-dead\n",
    "bd=[]\n",
    "bd_tags=driver.find_elements(By.XPATH,'/html/body/div[1]/div[2]/div/div[2]/div/div[1]/div/div/div/div[5]/span/div[2]/table/tbody/tr[2]/td[3]/p')\n",
    "for i in bd_tags:\n",
    "    bd.append(i.text)\n",
    "bd"
   ]
  },
  {
   "cell_type": "code",
   "execution_count": 286,
   "id": "b6ed0266",
   "metadata": {},
   "outputs": [
    {
     "data": {
      "text/plain": [
       "['15 August 1947 to 27 May 1964']"
      ]
     },
     "execution_count": 286,
     "metadata": {},
     "output_type": "execute_result"
    }
   ],
   "source": [
    "#Term of office\n",
    "to=[]\n",
    "to_tags=driver.find_elements(By.XPATH,'/html/body/div[1]/div[2]/div/div[2]/div/div[1]/div/div/div/div[5]/span/div[2]/table/tbody/tr[2]/td[4]/p[1]/span')\n",
    "for i in to_tags:\n",
    "    to.append(i.text)\n",
    "to"
   ]
  },
  {
   "cell_type": "code",
   "execution_count": 287,
   "id": "77cde74c",
   "metadata": {},
   "outputs": [
    {
     "data": {
      "text/plain": [
       "['The first prime minister of India and the longest-serving PM of India, the first to die in office.']"
      ]
     },
     "execution_count": 287,
     "metadata": {},
     "output_type": "execute_result"
    }
   ],
   "source": [
    "#Remarks\n",
    "re=[]\n",
    "re_tags=driver.find_elements(By.XPATH,'/html/body/div[1]/div[2]/div/div[2]/div/div[1]/div/div/div/div[5]/span/div[2]/table/tbody/tr[2]/td[5]/p')\n",
    "for i in re_tags:\n",
    "    re.append(i.text)\n",
    "re"
   ]
  },
  {
   "cell_type": "code",
   "execution_count": 288,
   "id": "26bae70a",
   "metadata": {},
   "outputs": [
    {
     "data": {
      "text/plain": [
       "['Gulzarilal Nanda (Acting)']"
      ]
     },
     "execution_count": 288,
     "metadata": {},
     "output_type": "execute_result"
    }
   ],
   "source": [
    "#Name\n",
    "name2=[]\n",
    "name2_tags=driver.find_elements(By.XPATH,'/html/body/div[1]/div[2]/div/div[2]/div/div[1]/div/div/div/div[5]/span/div[2]/table/tbody/tr[3]/td[2]/p')\n",
    "for i in name2_tags:\n",
    "    name2.append(i.text)\n",
    "name2"
   ]
  },
  {
   "cell_type": "code",
   "execution_count": 289,
   "id": "543c730b",
   "metadata": {},
   "outputs": [
    {
     "data": {
      "text/plain": [
       "['(1898-1998)']"
      ]
     },
     "execution_count": 289,
     "metadata": {},
     "output_type": "execute_result"
    }
   ],
   "source": [
    "#born-dead\n",
    "bd=[]\n",
    "bd_tags=driver.find_elements(By.XPATH,'/html/body/div[1]/div[2]/div/div[2]/div/div[1]/div/div/div/div[5]/span/div[2]/table/tbody/tr[3]/td[3]/p')\n",
    "for i in bd_tags:\n",
    "    bd.append(i.text)\n",
    "bd"
   ]
  },
  {
   "cell_type": "code",
   "execution_count": 290,
   "id": "9dab2768",
   "metadata": {},
   "outputs": [
    {
     "data": {
      "text/plain": [
       "['27 May 1964 to 9 June 1964,']"
      ]
     },
     "execution_count": 290,
     "metadata": {},
     "output_type": "execute_result"
    }
   ],
   "source": [
    "#Term of office\n",
    "to=[]\n",
    "to_tags=driver.find_elements(By.XPATH,'/html/body/div[1]/div[2]/div/div[2]/div/div[1]/div/div/div/div[5]/span/div[2]/table/tbody/tr[3]/td[4]/p[1]/span')\n",
    "for i in to_tags:\n",
    "    to.append(i.text)\n",
    "to"
   ]
  },
  {
   "cell_type": "code",
   "execution_count": 291,
   "id": "6779ae54",
   "metadata": {},
   "outputs": [
    {
     "data": {
      "text/plain": [
       "['First acting PM of India']"
      ]
     },
     "execution_count": 291,
     "metadata": {},
     "output_type": "execute_result"
    }
   ],
   "source": [
    "#Remarks\n",
    "re=[]\n",
    "re_tags=driver.find_elements(By.XPATH,'/html/body/div[1]/div[2]/div/div[2]/div/div[1]/div/div/div/div[5]/span/div[2]/table/tbody/tr[3]/td[5]/p')\n",
    "for i in re_tags:\n",
    "    re.append(i.text)\n",
    "re"
   ]
  },
  {
   "cell_type": "code",
   "execution_count": 292,
   "id": "6a68c464",
   "metadata": {},
   "outputs": [
    {
     "data": {
      "text/plain": [
       "['Lal Bahadur Shastri']"
      ]
     },
     "execution_count": 292,
     "metadata": {},
     "output_type": "execute_result"
    }
   ],
   "source": [
    "#Name\n",
    "name=[]\n",
    "name_tags=driver.find_elements(By.XPATH,'/html/body/div[1]/div[2]/div/div[2]/div/div[1]/div/div/div/div[5]/span/div[2]/table/tbody/tr[4]/td[2]/p')\n",
    "for i in name_tags:\n",
    "    name.append(i.text)\n",
    "name"
   ]
  },
  {
   "cell_type": "code",
   "execution_count": 293,
   "id": "ffbac540",
   "metadata": {},
   "outputs": [
    {
     "data": {
      "text/plain": [
       "['(1904–1966)']"
      ]
     },
     "execution_count": 293,
     "metadata": {},
     "output_type": "execute_result"
    }
   ],
   "source": [
    "#born-dead\n",
    "bd=[]\n",
    "bd_tags=driver.find_elements(By.XPATH,'/html/body/div[1]/div[2]/div/div[2]/div/div[1]/div/div/div/div[5]/span/div[2]/table/tbody/tr[4]/td[3]/p')\n",
    "for i in bd_tags:\n",
    "    bd.append(i.text)\n",
    "bd"
   ]
  },
  {
   "cell_type": "code",
   "execution_count": 294,
   "id": "c73aa940",
   "metadata": {},
   "outputs": [
    {
     "data": {
      "text/plain": [
       "['9 June 1964 to 11 January 1966']"
      ]
     },
     "execution_count": 294,
     "metadata": {},
     "output_type": "execute_result"
    }
   ],
   "source": [
    "#Term of office\n",
    "to=[]\n",
    "to_tags=driver.find_elements(By.XPATH,'/html/body/div[1]/div[2]/div/div[2]/div/div[1]/div/div/div/div[5]/span/div[2]/table/tbody/tr[4]/td[4]/p[1]')\n",
    "for i in to_tags:\n",
    "    to.append(i.text)\n",
    "to"
   ]
  },
  {
   "cell_type": "code",
   "execution_count": 295,
   "id": "6314e38a",
   "metadata": {},
   "outputs": [
    {
     "data": {
      "text/plain": [
       "[\"He has given the slogan of 'Jai Jawan Jai Kisan' during the Indo-Pak war of 1965\"]"
      ]
     },
     "execution_count": 295,
     "metadata": {},
     "output_type": "execute_result"
    }
   ],
   "source": [
    "#Remarks\n",
    "re=[]\n",
    "re_tags=driver.find_elements(By.XPATH,'/html/body/div[1]/div[2]/div/div[2]/div/div[1]/div/div/div/div[5]/span/div[2]/table/tbody/tr[4]/td[5]/p')\n",
    "for i in re_tags:\n",
    "    re.append(i.text)\n",
    "re"
   ]
  },
  {
   "cell_type": "code",
   "execution_count": 296,
   "id": "c9836e48",
   "metadata": {},
   "outputs": [
    {
     "data": {
      "text/plain": [
       "['Gulzari Lal Nanda  (Acting)']"
      ]
     },
     "execution_count": 296,
     "metadata": {},
     "output_type": "execute_result"
    }
   ],
   "source": [
    "#Name\n",
    "name=[]\n",
    "name_tags=driver.find_elements(By.XPATH,'/html/body/div[1]/div[2]/div/div[2]/div/div[1]/div/div/div/div[5]/span/div[2]/table/tbody/tr[5]/td[2]/p')\n",
    "for i in name_tags:\n",
    "    name.append(i.text)\n",
    "name"
   ]
  },
  {
   "cell_type": "code",
   "execution_count": 297,
   "id": "976efa11",
   "metadata": {},
   "outputs": [
    {
     "data": {
      "text/plain": [
       "['(1898-1998)']"
      ]
     },
     "execution_count": 297,
     "metadata": {},
     "output_type": "execute_result"
    }
   ],
   "source": [
    "#born-dead\n",
    "bd=[]\n",
    "bd_tags=driver.find_elements(By.XPATH,'/html/body/div[1]/div[2]/div/div[2]/div/div[1]/div/div/div/div[5]/span/div[2]/table/tbody/tr[5]/td[3]/p')\n",
    "for i in bd_tags:\n",
    "    bd.append(i.text)\n",
    "bd"
   ]
  },
  {
   "cell_type": "code",
   "execution_count": 298,
   "id": "47ab153d",
   "metadata": {},
   "outputs": [
    {
     "data": {
      "text/plain": [
       "['11 January 1966 to 24 January 1966']"
      ]
     },
     "execution_count": 298,
     "metadata": {},
     "output_type": "execute_result"
    }
   ],
   "source": [
    "#Term of office\n",
    "to=[]\n",
    "to_tags=driver.find_elements(By.XPATH,'/html/body/div[1]/div[2]/div/div[2]/div/div[1]/div/div/div/div[5]/span/div[2]/table/tbody/tr[5]/td[4]/p[1]')\n",
    "for i in to_tags:\n",
    "    to.append(i.text)\n",
    "to"
   ]
  },
  {
   "cell_type": "code",
   "execution_count": 299,
   "id": "f6cacacd",
   "metadata": {},
   "outputs": [
    {
     "data": {
      "text/plain": [
       "['Indira Gandhi']"
      ]
     },
     "execution_count": 299,
     "metadata": {},
     "output_type": "execute_result"
    }
   ],
   "source": [
    "#Name\n",
    "name=[]\n",
    "name_tags=driver.find_elements(By.XPATH,'/html/body/div[1]/div[2]/div/div[2]/div/div[1]/div/div/div/div[5]/span/div[2]/table/tbody/tr[6]/td[2]/p/strong/a')\n",
    "for i in name_tags:\n",
    "    name.append(i.text)\n",
    "name"
   ]
  },
  {
   "cell_type": "code",
   "execution_count": 300,
   "id": "0a86b0a9",
   "metadata": {},
   "outputs": [
    {
     "data": {
      "text/plain": [
       "['(1917–1984)']"
      ]
     },
     "execution_count": 300,
     "metadata": {},
     "output_type": "execute_result"
    }
   ],
   "source": [
    "#born-dead\n",
    "bd=[]\n",
    "bd_tags=driver.find_elements(By.XPATH,'/html/body/div[1]/div[2]/div/div[2]/div/div[1]/div/div/div/div[5]/span/div[2]/table/tbody/tr[6]/td[3]/p')\n",
    "for i in bd_tags:\n",
    "    bd.append(i.text)\n",
    "bd"
   ]
  },
  {
   "cell_type": "code",
   "execution_count": 301,
   "id": "a2b51316",
   "metadata": {},
   "outputs": [
    {
     "data": {
      "text/plain": [
       "['24 January 1966 to 24 March 1977']"
      ]
     },
     "execution_count": 301,
     "metadata": {},
     "output_type": "execute_result"
    }
   ],
   "source": [
    "#Term of office\n",
    "to=[]\n",
    "to_tags=driver.find_elements(By.XPATH,'/html/body/div[1]/div[2]/div/div[2]/div/div[1]/div/div/div/div[5]/span/div[2]/table/tbody/tr[6]/td[4]/p[1]/span')\n",
    "for i in to_tags:\n",
    "    to.append(i.text)\n",
    "to"
   ]
  },
  {
   "cell_type": "code",
   "execution_count": 302,
   "id": "31b26128",
   "metadata": {},
   "outputs": [
    {
     "data": {
      "text/plain": [
       "['First female Prime Minister of India']"
      ]
     },
     "execution_count": 302,
     "metadata": {},
     "output_type": "execute_result"
    }
   ],
   "source": [
    "#Remarks\n",
    "re=[]\n",
    "re_tags=driver.find_elements(By.XPATH,'/html/body/div[1]/div[2]/div/div[2]/div/div[1]/div/div/div/div[5]/span/div[2]/table/tbody/tr[6]/td[5]/p')\n",
    "for i in re_tags:\n",
    "    re.append(i.text)\n",
    "re"
   ]
  },
  {
   "cell_type": "code",
   "execution_count": 303,
   "id": "d02eb6b6",
   "metadata": {},
   "outputs": [
    {
     "data": {
      "text/plain": [
       "['Morarji Desai']"
      ]
     },
     "execution_count": 303,
     "metadata": {},
     "output_type": "execute_result"
    }
   ],
   "source": [
    "#Name\n",
    "name=[]\n",
    "name_tags=driver.find_elements(By.XPATH,'/html/body/div[1]/div[2]/div/div[2]/div/div[1]/div/div/div/div[5]/span/div[2]/table/tbody/tr[7]/td[2]/p')\n",
    "for i in name_tags:\n",
    "    name.append(i.text)\n",
    "name"
   ]
  },
  {
   "cell_type": "code",
   "execution_count": 304,
   "id": "964424bc",
   "metadata": {},
   "outputs": [
    {
     "data": {
      "text/plain": [
       "['(1896–1995)']"
      ]
     },
     "execution_count": 304,
     "metadata": {},
     "output_type": "execute_result"
    }
   ],
   "source": [
    "#born-dead\n",
    "bd=[]\n",
    "bd_tags=driver.find_elements(By.XPATH,'/html/body/div[1]/div[2]/div/div[2]/div/div[1]/div/div/div/div[5]/span/div[2]/table/tbody/tr[7]/td[3]/p')\n",
    "for i in bd_tags:\n",
    "    bd.append(i.text)\n",
    "bd"
   ]
  },
  {
   "cell_type": "code",
   "execution_count": 305,
   "id": "8a0d4126",
   "metadata": {},
   "outputs": [
    {
     "data": {
      "text/plain": [
       "['24 March 1977 to  28 July 1979 ']"
      ]
     },
     "execution_count": 305,
     "metadata": {},
     "output_type": "execute_result"
    }
   ],
   "source": [
    "#Term of office\n",
    "to=[]\n",
    "to_tags=driver.find_elements(By.XPATH,'/html/body/div[1]/div[2]/div/div[2]/div/div[1]/div/div/div/div[5]/span/div[2]/table/tbody/tr[7]/td[4]/p[1]/span')\n",
    "for i in to_tags:\n",
    "    to.append(i.text)\n",
    "to"
   ]
  },
  {
   "cell_type": "code",
   "execution_count": 306,
   "id": "9f76a2db",
   "metadata": {},
   "outputs": [
    {
     "data": {
      "text/plain": [
       "['Oldest to become PM (81 years old) and first to resign from office']"
      ]
     },
     "execution_count": 306,
     "metadata": {},
     "output_type": "execute_result"
    }
   ],
   "source": [
    "#Remarks\n",
    "re=[]\n",
    "re_tags=driver.find_elements(By.XPATH,'/html/body/div[1]/div[2]/div/div[2]/div/div[1]/div/div/div/div[5]/span/div[2]/table/tbody/tr[7]/td[5]/p')\n",
    "for i in re_tags:\n",
    "    re.append(i.text)\n",
    "re"
   ]
  },
  {
   "cell_type": "code",
   "execution_count": 307,
   "id": "b20cdfe6",
   "metadata": {},
   "outputs": [
    {
     "data": {
      "text/plain": [
       "['Charan Singh']"
      ]
     },
     "execution_count": 307,
     "metadata": {},
     "output_type": "execute_result"
    }
   ],
   "source": [
    "#Name\n",
    "name=[]\n",
    "name_tags=driver.find_elements(By.XPATH,'/html/body/div[1]/div[2]/div/div[2]/div/div[1]/div/div/div/div[5]/span/div[2]/table/tbody/tr[8]/td[2]/p')\n",
    "for i in name_tags:\n",
    "    name.append(i.text)\n",
    "name"
   ]
  },
  {
   "cell_type": "code",
   "execution_count": 308,
   "id": "03a65dc3",
   "metadata": {},
   "outputs": [
    {
     "data": {
      "text/plain": [
       "['(1902–1987)']"
      ]
     },
     "execution_count": 308,
     "metadata": {},
     "output_type": "execute_result"
    }
   ],
   "source": [
    "#born-dead\n",
    "bd=[]\n",
    "bd_tags=driver.find_elements(By.XPATH,'/html/body/div[1]/div[2]/div/div[2]/div/div[1]/div/div/div/div[5]/span/div[2]/table/tbody/tr[8]/td[3]/p')\n",
    "for i in bd_tags:\n",
    "    bd.append(i.text)\n",
    "bd"
   ]
  },
  {
   "cell_type": "code",
   "execution_count": 309,
   "id": "6058a05e",
   "metadata": {},
   "outputs": [
    {
     "data": {
      "text/plain": [
       "['28 July 1979 to 14 January 1980']"
      ]
     },
     "execution_count": 309,
     "metadata": {},
     "output_type": "execute_result"
    }
   ],
   "source": [
    "#Term of office\n",
    "to=[]\n",
    "to_tags=driver.find_elements(By.XPATH,'/html/body/div[1]/div[2]/div/div[2]/div/div[1]/div/div/div/div[5]/span/div[2]/table/tbody/tr[8]/td[4]/p[1]/span')\n",
    "for i in to_tags:\n",
    "    to.append(i.text)\n",
    "to"
   ]
  },
  {
   "cell_type": "code",
   "execution_count": 310,
   "id": "53865fca",
   "metadata": {},
   "outputs": [
    {
     "data": {
      "text/plain": [
       "['Only PM who did not face the Parliament']"
      ]
     },
     "execution_count": 310,
     "metadata": {},
     "output_type": "execute_result"
    }
   ],
   "source": [
    "#Remarks\n",
    "re=[]\n",
    "re_tags=driver.find_elements(By.XPATH,'/html/body/div[1]/div[2]/div/div[2]/div/div[1]/div/div/div/div[5]/span/div[2]/table/tbody/tr[8]/td[5]/p')\n",
    "for i in re_tags:\n",
    "    re.append(i.text)\n",
    "re"
   ]
  },
  {
   "cell_type": "code",
   "execution_count": 311,
   "id": "af5da23e",
   "metadata": {},
   "outputs": [
    {
     "data": {
      "text/plain": [
       "['Indira Gandhi']"
      ]
     },
     "execution_count": 311,
     "metadata": {},
     "output_type": "execute_result"
    }
   ],
   "source": [
    "#Name\n",
    "name=[]\n",
    "name_tags=driver.find_elements(By.XPATH,'/html/body/div[1]/div[2]/div/div[2]/div/div[1]/div/div/div/div[5]/span/div[2]/table/tbody/tr[9]/td[2]/p/strong/a')\n",
    "for i in name_tags:\n",
    "    name.append(i.text)\n",
    "name"
   ]
  },
  {
   "cell_type": "code",
   "execution_count": 312,
   "id": "f00ffff7",
   "metadata": {},
   "outputs": [
    {
     "data": {
      "text/plain": [
       "['(1917–1984)']"
      ]
     },
     "execution_count": 312,
     "metadata": {},
     "output_type": "execute_result"
    }
   ],
   "source": [
    "#born-dead\n",
    "bd=[]\n",
    "bd_tags=driver.find_elements(By.XPATH,'/html/body/div[1]/div[2]/div/div[2]/div/div[1]/div/div/div/div[5]/span/div[2]/table/tbody/tr[9]/td[3]/p')\n",
    "for i in bd_tags:\n",
    "    bd.append(i.text)\n",
    "bd"
   ]
  },
  {
   "cell_type": "code",
   "execution_count": 313,
   "id": "84ce7798",
   "metadata": {},
   "outputs": [
    {
     "data": {
      "text/plain": [
       "['14 January 1980 to 31 October 1984']"
      ]
     },
     "execution_count": 313,
     "metadata": {},
     "output_type": "execute_result"
    }
   ],
   "source": [
    "#Term of office\n",
    "to=[]\n",
    "to_tags=driver.find_elements(By.XPATH,'/html/body/div[1]/div[2]/div/div[2]/div/div[1]/div/div/div/div[5]/span/div[2]/table/tbody/tr[9]/td[4]/p[1]')\n",
    "for i in to_tags:\n",
    "    to.append(i.text)\n",
    "to"
   ]
  },
  {
   "cell_type": "code",
   "execution_count": 314,
   "id": "962faa8a",
   "metadata": {},
   "outputs": [
    {
     "data": {
      "text/plain": [
       "['The first lady who served as PM for the second term']"
      ]
     },
     "execution_count": 314,
     "metadata": {},
     "output_type": "execute_result"
    }
   ],
   "source": [
    "#Remarks\n",
    "re=[]\n",
    "re_tags=driver.find_elements(By.XPATH,'/html/body/div[1]/div[2]/div/div[2]/div/div[1]/div/div/div/div[5]/span/div[2]/table/tbody/tr[9]/td[5]/p')\n",
    "for i in re_tags:\n",
    "    re.append(i.text)\n",
    "re"
   ]
  },
  {
   "cell_type": "code",
   "execution_count": 316,
   "id": "c77d9173",
   "metadata": {},
   "outputs": [
    {
     "data": {
      "text/plain": [
       "['Rajiv Gandhi']"
      ]
     },
     "execution_count": 316,
     "metadata": {},
     "output_type": "execute_result"
    }
   ],
   "source": [
    "#Name\n",
    "\n",
    "name=[]\n",
    "name_tags=driver.find_elements(By.XPATH,'/html/body/div[1]/div[2]/div/div[2]/div/div[1]/div/div/div/div[5]/span/div[2]/table/tbody/tr[10]/td[2]/p/a/strong')\n",
    "for i in name_tags:\n",
    "    name.append(i.text)\n",
    "name"
   ]
  },
  {
   "cell_type": "code",
   "execution_count": 317,
   "id": "6261bc4f",
   "metadata": {},
   "outputs": [
    {
     "data": {
      "text/plain": [
       "['(1944–1991)']"
      ]
     },
     "execution_count": 317,
     "metadata": {},
     "output_type": "execute_result"
    }
   ],
   "source": [
    "#born-dead\n",
    "bd=[]\n",
    "bd_tags=driver.find_elements(By.XPATH,'/html/body/div[1]/div[2]/div/div[2]/div/div[1]/div/div/div/div[5]/span/div[2]/table/tbody/tr[10]/td[3]/p')\n",
    "for i in bd_tags:\n",
    "    bd.append(i.text)\n",
    "bd"
   ]
  },
  {
   "cell_type": "code",
   "execution_count": 318,
   "id": "efc499be",
   "metadata": {},
   "outputs": [
    {
     "data": {
      "text/plain": [
       "['31 October 1984 to 2 December 1989']"
      ]
     },
     "execution_count": 318,
     "metadata": {},
     "output_type": "execute_result"
    }
   ],
   "source": [
    "#Term of office\n",
    "to=[]\n",
    "to_tags=driver.find_elements(By.XPATH,'/html/body/div[1]/div[2]/div/div[2]/div/div[1]/div/div/div/div[5]/span/div[2]/table/tbody/tr[10]/td[4]/p[1]/span')\n",
    "for i in to_tags:\n",
    "    to.append(i.text)\n",
    "to"
   ]
  },
  {
   "cell_type": "code",
   "execution_count": 319,
   "id": "b14bbf35",
   "metadata": {},
   "outputs": [
    {
     "data": {
      "text/plain": [
       "['Youngest to become PM (40 years old)']"
      ]
     },
     "execution_count": 319,
     "metadata": {},
     "output_type": "execute_result"
    }
   ],
   "source": [
    "#Remarks\n",
    "re=[]\n",
    "re_tags=driver.find_elements(By.XPATH,'/html/body/div[1]/div[2]/div/div[2]/div/div[1]/div/div/div/div[5]/span/div[2]/table/tbody/tr[10]/td[5]/p')\n",
    "for i in re_tags:\n",
    "    re.append(i.text)\n",
    "re"
   ]
  },
  {
   "cell_type": "code",
   "execution_count": 320,
   "id": "2aabbdb0",
   "metadata": {},
   "outputs": [
    {
     "data": {
      "text/plain": [
       "['V. P. Singh']"
      ]
     },
     "execution_count": 320,
     "metadata": {},
     "output_type": "execute_result"
    }
   ],
   "source": [
    "#Name\n",
    "name=[]\n",
    "name_tags=driver.find_elements(By.XPATH,'/html/body/div[1]/div[2]/div/div[2]/div/div[1]/div/div/div/div[5]/span/div[2]/table/tbody/tr[11]/td[2]/p')\n",
    "for i in name_tags:\n",
    "    name.append(i.text)\n",
    "name"
   ]
  },
  {
   "cell_type": "code",
   "execution_count": 321,
   "id": "5f68c366",
   "metadata": {},
   "outputs": [
    {
     "data": {
      "text/plain": [
       "['(1931–2008)']"
      ]
     },
     "execution_count": 321,
     "metadata": {},
     "output_type": "execute_result"
    }
   ],
   "source": [
    "#born-dead\n",
    "bd=[]\n",
    "bd_tags=driver.find_elements(By.XPATH,'/html/body/div[1]/div[2]/div/div[2]/div/div[1]/div/div/div/div[5]/span/div[2]/table/tbody/tr[11]/td[3]/p')\n",
    "for i in bd_tags:\n",
    "    bd.append(i.text)\n",
    "bd"
   ]
  },
  {
   "cell_type": "code",
   "execution_count": 322,
   "id": "8d4f9d03",
   "metadata": {},
   "outputs": [
    {
     "data": {
      "text/plain": [
       "['2 December 1989 to 10 November 1990']"
      ]
     },
     "execution_count": 322,
     "metadata": {},
     "output_type": "execute_result"
    }
   ],
   "source": [
    "#Term of office\n",
    "to=[]\n",
    "to_tags=driver.find_elements(By.XPATH,'/html/body/div[1]/div[2]/div/div[2]/div/div[1]/div/div/div/div[5]/span/div[2]/table/tbody/tr[11]/td[4]/p[1]/span')\n",
    "for i in to_tags:\n",
    "    to.append(i.text)\n",
    "to"
   ]
  },
  {
   "cell_type": "code",
   "execution_count": 323,
   "id": "5225b763",
   "metadata": {},
   "outputs": [
    {
     "data": {
      "text/plain": [
       "['First PM to step down after a vote of no confidence']"
      ]
     },
     "execution_count": 323,
     "metadata": {},
     "output_type": "execute_result"
    }
   ],
   "source": [
    "#Remarks\n",
    "re=[]\n",
    "re_tags=driver.find_elements(By.XPATH,'/html/body/div[1]/div[2]/div/div[2]/div/div[1]/div/div/div/div[5]/span/div[2]/table/tbody/tr[11]/td[5]/p')\n",
    "for i in re_tags:\n",
    "    re.append(i.text)\n",
    "re"
   ]
  },
  {
   "cell_type": "code",
   "execution_count": 324,
   "id": "22219903",
   "metadata": {},
   "outputs": [
    {
     "data": {
      "text/plain": [
       "['Chandra Shekhar']"
      ]
     },
     "execution_count": 324,
     "metadata": {},
     "output_type": "execute_result"
    }
   ],
   "source": [
    "#Name\n",
    "name=[]\n",
    "name_tags=driver.find_elements(By.XPATH,'/html/body/div[1]/div[2]/div/div[2]/div/div[1]/div/div/div/div[5]/span/div[2]/table/tbody/tr[12]/td[2]/p/strong/a')\n",
    "for i in name_tags:\n",
    "    name.append(i.text)\n",
    "name"
   ]
  },
  {
   "cell_type": "code",
   "execution_count": 325,
   "id": "f034bcaa",
   "metadata": {},
   "outputs": [
    {
     "data": {
      "text/plain": [
       "['(1927–2007)']"
      ]
     },
     "execution_count": 325,
     "metadata": {},
     "output_type": "execute_result"
    }
   ],
   "source": [
    "#born-dead\n",
    "bd=[]\n",
    "bd_tags=driver.find_elements(By.XPATH,'/html/body/div[1]/div[2]/div/div[2]/div/div[1]/div/div/div/div[5]/span/div[2]/table/tbody/tr[12]/td[3]/p')\n",
    "for i in bd_tags:\n",
    "    bd.append(i.text)\n",
    "bd"
   ]
  },
  {
   "cell_type": "code",
   "execution_count": 326,
   "id": "e5a98219",
   "metadata": {},
   "outputs": [
    {
     "data": {
      "text/plain": [
       "['10 November 1990 to 21 June 1991']"
      ]
     },
     "execution_count": 326,
     "metadata": {},
     "output_type": "execute_result"
    }
   ],
   "source": [
    "#Term of office\n",
    "to=[]\n",
    "to_tags=driver.find_elements(By.XPATH,'/html/body/div[1]/div[2]/div/div[2]/div/div[1]/div/div/div/div[5]/span/div[2]/table/tbody/tr[12]/td[4]/p[1]/span')\n",
    "for i in to_tags:\n",
    "    to.append(i.text)\n",
    "to"
   ]
  },
  {
   "cell_type": "code",
   "execution_count": 327,
   "id": "323f74b0",
   "metadata": {},
   "outputs": [
    {
     "data": {
      "text/plain": [
       "['He belongs to  Samajwadi Janata Party']"
      ]
     },
     "execution_count": 327,
     "metadata": {},
     "output_type": "execute_result"
    }
   ],
   "source": [
    "#Remarks\n",
    "re=[]\n",
    "re_tags=driver.find_elements(By.XPATH,'/html/body/div[1]/div[2]/div/div[2]/div/div[1]/div/div/div/div[5]/span/div[2]/table/tbody/tr[12]/td[5]/p')\n",
    "for i in re_tags:\n",
    "    re.append(i.text)\n",
    "re"
   ]
  },
  {
   "cell_type": "code",
   "execution_count": 328,
   "id": "7037b3bc",
   "metadata": {},
   "outputs": [
    {
     "data": {
      "text/plain": [
       "['P. V. Narasimha Rao']"
      ]
     },
     "execution_count": 328,
     "metadata": {},
     "output_type": "execute_result"
    }
   ],
   "source": [
    "#Name\n",
    "name=[]\n",
    "name_tags=driver.find_elements(By.XPATH,'/html/body/div[1]/div[2]/div/div[2]/div/div[1]/div/div/div/div[5]/span/div[2]/table/tbody/tr[13]/td[2]/p')\n",
    "for i in name_tags:\n",
    "    name.append(i.text)\n",
    "name"
   ]
  },
  {
   "cell_type": "code",
   "execution_count": 329,
   "id": "956bbfb1",
   "metadata": {},
   "outputs": [
    {
     "data": {
      "text/plain": [
       "['(1921–2004)']"
      ]
     },
     "execution_count": 329,
     "metadata": {},
     "output_type": "execute_result"
    }
   ],
   "source": [
    "#born-dead\n",
    "bd=[]\n",
    "bd_tags=driver.find_elements(By.XPATH,'/html/body/div[1]/div[2]/div/div[2]/div/div[1]/div/div/div/div[5]/span/div[2]/table/tbody/tr[13]/td[3]/p')\n",
    "for i in bd_tags:\n",
    "    bd.append(i.text)\n",
    "bd"
   ]
  },
  {
   "cell_type": "code",
   "execution_count": 330,
   "id": "28f8c0da",
   "metadata": {},
   "outputs": [
    {
     "data": {
      "text/plain": [
       "['21 June 1991 to 16 May 1996']"
      ]
     },
     "execution_count": 330,
     "metadata": {},
     "output_type": "execute_result"
    }
   ],
   "source": [
    "#Term of office\n",
    "to=[]\n",
    "to_tags=driver.find_elements(By.XPATH,'/html/body/div[1]/div[2]/div/div[2]/div/div[1]/div/div/div/div[5]/span/div[2]/table/tbody/tr[13]/td[4]/p[1]/span')\n",
    "for i in to_tags:\n",
    "    to.append(i.text)\n",
    "to"
   ]
  },
  {
   "cell_type": "code",
   "execution_count": 331,
   "id": "ed61f24f",
   "metadata": {},
   "outputs": [
    {
     "data": {
      "text/plain": [
       "['First PM from south India']"
      ]
     },
     "execution_count": 331,
     "metadata": {},
     "output_type": "execute_result"
    }
   ],
   "source": [
    "#Remarks\n",
    "re=[]\n",
    "re_tags=driver.find_elements(By.XPATH,'/html/body/div[1]/div[2]/div/div[2]/div/div[1]/div/div/div/div[5]/span/div[2]/table/tbody/tr[13]/td[5]/p')\n",
    "for i in re_tags:\n",
    "    re.append(i.text)\n",
    "re"
   ]
  },
  {
   "cell_type": "code",
   "execution_count": 332,
   "id": "ddfafc25",
   "metadata": {},
   "outputs": [
    {
     "data": {
      "text/plain": [
       "['Atal Bihari Vajpayee']"
      ]
     },
     "execution_count": 332,
     "metadata": {},
     "output_type": "execute_result"
    }
   ],
   "source": [
    "#Name\n",
    "name=[]\n",
    "name_tags=driver.find_elements(By.XPATH,'/html/body/div[1]/div[2]/div/div[2]/div/div[1]/div/div/div/div[5]/span/div[2]/table/tbody/tr[14]/td[2]/p/strong/a')\n",
    "for i in name_tags:\n",
    "    name.append(i.text)\n",
    "name"
   ]
  },
  {
   "cell_type": "code",
   "execution_count": 333,
   "id": "473fe8ee",
   "metadata": {},
   "outputs": [
    {
     "data": {
      "text/plain": [
       "['(1924- 2018)']"
      ]
     },
     "execution_count": 333,
     "metadata": {},
     "output_type": "execute_result"
    }
   ],
   "source": [
    "#born-dead\n",
    "bd=[]\n",
    "bd_tags=driver.find_elements(By.XPATH,'/html/body/div[1]/div[2]/div/div[2]/div/div[1]/div/div/div/div[5]/span/div[2]/table/tbody/tr[14]/td[3]/p')\n",
    "for i in bd_tags:\n",
    "    bd.append(i.text)\n",
    "bd"
   ]
  },
  {
   "cell_type": "code",
   "execution_count": 334,
   "id": "96caadff",
   "metadata": {},
   "outputs": [
    {
     "data": {
      "text/plain": [
       "['16 May 1996 to 1 June 1996']"
      ]
     },
     "execution_count": 334,
     "metadata": {},
     "output_type": "execute_result"
    }
   ],
   "source": [
    "#Term of office\n",
    "to=[]\n",
    "to_tags=driver.find_elements(By.XPATH,'/html/body/div[1]/div[2]/div/div[2]/div/div[1]/div/div/div/div[5]/span/div[2]/table/tbody/tr[14]/td[4]/p[1]/span')\n",
    "for i in to_tags:\n",
    "    to.append(i.text)\n",
    "to"
   ]
  },
  {
   "cell_type": "code",
   "execution_count": 335,
   "id": "6b81db11",
   "metadata": {},
   "outputs": [
    {
     "data": {
      "text/plain": [
       "['PM for shortest tenure']"
      ]
     },
     "execution_count": 335,
     "metadata": {},
     "output_type": "execute_result"
    }
   ],
   "source": [
    "#Remarks\n",
    "re=[]\n",
    "re_tags=driver.find_elements(By.XPATH,'/html/body/div[1]/div[2]/div/div[2]/div/div[1]/div/div/div/div[5]/span/div[2]/table/tbody/tr[14]/td[5]/p')\n",
    "for i in re_tags:\n",
    "    re.append(i.text)\n",
    "re"
   ]
  },
  {
   "cell_type": "code",
   "execution_count": 336,
   "id": "12eb4cfe",
   "metadata": {},
   "outputs": [
    {
     "data": {
      "text/plain": [
       "['H. D. Deve Gowda']"
      ]
     },
     "execution_count": 336,
     "metadata": {},
     "output_type": "execute_result"
    }
   ],
   "source": [
    "#Name\n",
    "name=[]\n",
    "name_tags=driver.find_elements(By.XPATH,'/html/body/div[1]/div[2]/div/div[2]/div/div[1]/div/div/div/div[5]/span/div[2]/table/tbody/tr[15]/td[2]/p')\n",
    "for i in name_tags:\n",
    "    name.append(i.text)\n",
    "name"
   ]
  },
  {
   "cell_type": "code",
   "execution_count": 337,
   "id": "c3f1aab2",
   "metadata": {},
   "outputs": [
    {
     "data": {
      "text/plain": [
       "['(born 1933)']"
      ]
     },
     "execution_count": 337,
     "metadata": {},
     "output_type": "execute_result"
    }
   ],
   "source": [
    "#born-dead\n",
    "bd=[]\n",
    "bd_tags=driver.find_elements(By.XPATH,'/html/body/div[1]/div[2]/div/div[2]/div/div[1]/div/div/div/div[5]/span/div[2]/table/tbody/tr[15]/td[3]/p')\n",
    "for i in bd_tags:\n",
    "    bd.append(i.text)\n",
    "bd"
   ]
  },
  {
   "cell_type": "code",
   "execution_count": 338,
   "id": "09857bae",
   "metadata": {},
   "outputs": [
    {
     "data": {
      "text/plain": [
       "['1 June 1996 to 21 April 1997']"
      ]
     },
     "execution_count": 338,
     "metadata": {},
     "output_type": "execute_result"
    }
   ],
   "source": [
    "#Term of office\n",
    "to=[]\n",
    "to_tags=driver.find_elements(By.XPATH,'/html/body/div[1]/div[2]/div/div[2]/div/div[1]/div/div/div/div[5]/span/div[2]/table/tbody/tr[15]/td[4]/p[1]/span')\n",
    "for i in to_tags:\n",
    "    to.append(i.text)\n",
    "to"
   ]
  },
  {
   "cell_type": "code",
   "execution_count": 339,
   "id": "8eacc4db",
   "metadata": {},
   "outputs": [
    {
     "data": {
      "text/plain": [
       "['He belongs to  Janata Dal']"
      ]
     },
     "execution_count": 339,
     "metadata": {},
     "output_type": "execute_result"
    }
   ],
   "source": [
    "#Remarks\n",
    "re=[]\n",
    "re_tags=driver.find_elements(By.XPATH,'/html/body/div[1]/div[2]/div/div[2]/div/div[1]/div/div/div/div[5]/span/div[2]/table/tbody/tr[15]/td[5]/p')\n",
    "for i in re_tags:\n",
    "    re.append(i.text)\n",
    "re"
   ]
  },
  {
   "cell_type": "code",
   "execution_count": 340,
   "id": "36b0e8d0",
   "metadata": {},
   "outputs": [
    {
     "data": {
      "text/plain": [
       "['Inder Kumar Gujral']"
      ]
     },
     "execution_count": 340,
     "metadata": {},
     "output_type": "execute_result"
    }
   ],
   "source": [
    "#Name\n",
    "name=[]\n",
    "name_tags=driver.find_elements(By.XPATH,'/html/body/div[1]/div[2]/div/div[2]/div/div[1]/div/div/div/div[5]/span/div[2]/table/tbody/tr[16]/td[2]/p')\n",
    "for i in name_tags:\n",
    "    name.append(i.text)\n",
    "name"
   ]
  },
  {
   "cell_type": "code",
   "execution_count": 341,
   "id": "cb0c3503",
   "metadata": {},
   "outputs": [
    {
     "data": {
      "text/plain": [
       "['(1919–2012)']"
      ]
     },
     "execution_count": 341,
     "metadata": {},
     "output_type": "execute_result"
    }
   ],
   "source": [
    "#born-dead\n",
    "bd=[]\n",
    "bd_tags=driver.find_elements(By.XPATH,'/html/body/div[1]/div[2]/div/div[2]/div/div[1]/div/div/div/div[5]/span/div[2]/table/tbody/tr[16]/td[3]/p')\n",
    "for i in bd_tags:\n",
    "    bd.append(i.text)\n",
    "bd"
   ]
  },
  {
   "cell_type": "code",
   "execution_count": 342,
   "id": "a8a26bec",
   "metadata": {},
   "outputs": [
    {
     "data": {
      "text/plain": [
       "['21 April 1997 to 19 March 1998 ']"
      ]
     },
     "execution_count": 342,
     "metadata": {},
     "output_type": "execute_result"
    }
   ],
   "source": [
    "#Term of office\n",
    "to=[]\n",
    "to_tags=driver.find_elements(By.XPATH,'/html/body/div[1]/div[2]/div/div[2]/div/div[1]/div/div/div/div[5]/span/div[2]/table/tbody/tr[16]/td[4]/p[1]')\n",
    "for i in to_tags:\n",
    "    to.append(i.text)\n",
    "to"
   ]
  },
  {
   "cell_type": "code",
   "execution_count": 343,
   "id": "71dfe9ec",
   "metadata": {},
   "outputs": [
    {
     "data": {
      "text/plain": [
       "['------']"
      ]
     },
     "execution_count": 343,
     "metadata": {},
     "output_type": "execute_result"
    }
   ],
   "source": [
    "#Remarks\n",
    "re=[]\n",
    "re_tags=driver.find_elements(By.XPATH,'/html/body/div[1]/div[2]/div/div[2]/div/div[1]/div/div/div/div[5]/span/div[2]/table/tbody/tr[16]/td[5]/p')\n",
    "for i in re_tags:\n",
    "    re.append(i.text)\n",
    "re"
   ]
  },
  {
   "cell_type": "code",
   "execution_count": 344,
   "id": "8e06a5f3",
   "metadata": {},
   "outputs": [
    {
     "data": {
      "text/plain": [
       "['Atal Bihari Vajpayee']"
      ]
     },
     "execution_count": 344,
     "metadata": {},
     "output_type": "execute_result"
    }
   ],
   "source": [
    "#Name\n",
    "name=[]\n",
    "name_tags=driver.find_elements(By.XPATH,'/html/body/div[1]/div[2]/div/div[2]/div/div[1]/div/div/div/div[5]/span/div[2]/table/tbody/tr[17]/td[2]/p/a/strong')\n",
    "for i in name_tags:\n",
    "    name.append(i.text)\n",
    "name"
   ]
  },
  {
   "cell_type": "code",
   "execution_count": 345,
   "id": "18f65f72",
   "metadata": {},
   "outputs": [
    {
     "data": {
      "text/plain": [
       "['(1924-2018)']"
      ]
     },
     "execution_count": 345,
     "metadata": {},
     "output_type": "execute_result"
    }
   ],
   "source": [
    "#born-dead\n",
    "bd=[]\n",
    "bd_tags=driver.find_elements(By.XPATH,'/html/body/div[1]/div[2]/div/div[2]/div/div[1]/div/div/div/div[5]/span/div[2]/table/tbody/tr[17]/td[3]/p')\n",
    "for i in bd_tags:\n",
    "    bd.append(i.text)\n",
    "bd"
   ]
  },
  {
   "cell_type": "code",
   "execution_count": 346,
   "id": "29d1d261",
   "metadata": {},
   "outputs": [
    {
     "data": {
      "text/plain": [
       "['19 March 1998 to 22 May 2004 ']"
      ]
     },
     "execution_count": 346,
     "metadata": {},
     "output_type": "execute_result"
    }
   ],
   "source": [
    "#Term of office\n",
    "to=[]\n",
    "to_tags=driver.find_elements(By.XPATH,'/html/body/div[1]/div[2]/div/div[2]/div/div[1]/div/div/div/div[5]/span/div[2]/table/tbody/tr[17]/td[4]/p[1]/span')\n",
    "for i in to_tags:\n",
    "    to.append(i.text)\n",
    "to"
   ]
  },
  {
   "cell_type": "code",
   "execution_count": 347,
   "id": "c88aaf03",
   "metadata": {},
   "outputs": [
    {
     "data": {
      "text/plain": [
       "[' The first non-congress PM who completed a full term as PM']"
      ]
     },
     "execution_count": 347,
     "metadata": {},
     "output_type": "execute_result"
    }
   ],
   "source": [
    "#Remarks\n",
    "re=[]\n",
    "re_tags=driver.find_elements(By.XPATH,'/html/body/div[1]/div[2]/div/div[2]/div/div[1]/div/div/div/div[5]/span/div[2]/table/tbody/tr[17]/td[5]/p')\n",
    "for i in re_tags:\n",
    "    re.append(i.text)\n",
    "re"
   ]
  },
  {
   "cell_type": "code",
   "execution_count": 348,
   "id": "bfcba414",
   "metadata": {},
   "outputs": [
    {
     "data": {
      "text/plain": [
       "['Manmohan Singh']"
      ]
     },
     "execution_count": 348,
     "metadata": {},
     "output_type": "execute_result"
    }
   ],
   "source": [
    "#Name\n",
    "name=[]\n",
    "name_tags=driver.find_elements(By.XPATH,'/html/body/div[1]/div[2]/div/div[2]/div/div[1]/div/div/div/div[5]/span/div[2]/table/tbody/tr[18]/td[2]/p/strong/a')\n",
    "for i in name_tags:\n",
    "    name.append(i.text)\n",
    "name"
   ]
  },
  {
   "cell_type": "code",
   "execution_count": 349,
   "id": "3a6df122",
   "metadata": {},
   "outputs": [
    {
     "data": {
      "text/plain": [
       "['(born 1932)']"
      ]
     },
     "execution_count": 349,
     "metadata": {},
     "output_type": "execute_result"
    }
   ],
   "source": [
    "#born-dead\n",
    "bd=[]\n",
    "bd_tags=driver.find_elements(By.XPATH,'/html/body/div[1]/div[2]/div/div[2]/div/div[1]/div/div/div/div[5]/span/div[2]/table/tbody/tr[18]/td[3]/p')\n",
    "for i in bd_tags:\n",
    "    bd.append(i.text)\n",
    "bd"
   ]
  },
  {
   "cell_type": "code",
   "execution_count": 350,
   "id": "4bcbc46e",
   "metadata": {},
   "outputs": [
    {
     "data": {
      "text/plain": [
       "['22 May 2004 to 26 May 2014   ']"
      ]
     },
     "execution_count": 350,
     "metadata": {},
     "output_type": "execute_result"
    }
   ],
   "source": [
    "#Term of office\n",
    "to=[]\n",
    "to_tags=driver.find_elements(By.XPATH,'/html/body/div[1]/div[2]/div/div[2]/div/div[1]/div/div/div/div[5]/span/div[2]/table/tbody/tr[18]/td[4]/p[1]/span')\n",
    "for i in to_tags:\n",
    "    to.append(i.text)\n",
    "to"
   ]
  },
  {
   "cell_type": "code",
   "execution_count": 351,
   "id": "96da5f98",
   "metadata": {},
   "outputs": [
    {
     "data": {
      "text/plain": [
       "[' First Sikh PM']"
      ]
     },
     "execution_count": 351,
     "metadata": {},
     "output_type": "execute_result"
    }
   ],
   "source": [
    "#Remarks\n",
    "re=[]\n",
    "re_tags=driver.find_elements(By.XPATH,'/html/body/div[1]/div[2]/div/div[2]/div/div[1]/div/div/div/div[5]/span/div[2]/table/tbody/tr[18]/td[5]/p')\n",
    "for i in re_tags:\n",
    "    re.append(i.text)\n",
    "re"
   ]
  },
  {
   "cell_type": "code",
   "execution_count": 352,
   "id": "59cd899a",
   "metadata": {},
   "outputs": [
    {
     "data": {
      "text/plain": [
       "['Narendra Modi']"
      ]
     },
     "execution_count": 352,
     "metadata": {},
     "output_type": "execute_result"
    }
   ],
   "source": [
    "#Name\n",
    "name=[]\n",
    "name_tags=driver.find_elements(By.XPATH,'/html/body/div[1]/div[2]/div/div[2]/div/div[1]/div/div/div/div[5]/span/div[2]/table/tbody/tr[19]/td[2]/p/a')\n",
    "for i in name_tags:\n",
    "    name.append(i.text)\n",
    "name"
   ]
  },
  {
   "cell_type": "code",
   "execution_count": 353,
   "id": "23d784f1",
   "metadata": {},
   "outputs": [
    {
     "data": {
      "text/plain": [
       "['(born 1950)']"
      ]
     },
     "execution_count": 353,
     "metadata": {},
     "output_type": "execute_result"
    }
   ],
   "source": [
    "#born-dead\n",
    "bd=[]\n",
    "bd_tags=driver.find_elements(By.XPATH,'/html/body/div[1]/div[2]/div/div[2]/div/div[1]/div/div/div/div[5]/span/div[2]/table/tbody/tr[19]/td[3]/p')\n",
    "for i in bd_tags:\n",
    "    bd.append(i.text)\n",
    "bd"
   ]
  },
  {
   "cell_type": "code",
   "execution_count": 354,
   "id": "92ab2834",
   "metadata": {},
   "outputs": [
    {
     "data": {
      "text/plain": [
       "['26 May 2014 - Present']"
      ]
     },
     "execution_count": 354,
     "metadata": {},
     "output_type": "execute_result"
    }
   ],
   "source": [
    "#Term of office\n",
    "to=[]\n",
    "to_tags=driver.find_elements(By.XPATH,'/html/body/div[1]/div[2]/div/div[2]/div/div[1]/div/div/div/div[5]/span/div[2]/table/tbody/tr[19]/td[4]/p/span')\n",
    "for i in to_tags:\n",
    "    to.append(i.text)\n",
    "to"
   ]
  },
  {
   "cell_type": "code",
   "execution_count": 355,
   "id": "9b713a82",
   "metadata": {},
   "outputs": [
    {
     "data": {
      "text/plain": [
       "['4th Prime Minister of India who served two consecutive tenures']"
      ]
     },
     "execution_count": 355,
     "metadata": {},
     "output_type": "execute_result"
    }
   ],
   "source": [
    "#Remarks\n",
    "re=[]\n",
    "re_tags=driver.find_elements(By.XPATH,'/html/body/div[1]/div[2]/div/div[2]/div/div[1]/div/div/div/div[5]/span/div[2]/table/tbody/tr[19]/td[5]/p')\n",
    "for i in re_tags:\n",
    "    re.append(i.text)\n",
    "re"
   ]
  },
  {
   "cell_type": "code",
   "execution_count": 357,
   "id": "c3911805",
   "metadata": {},
   "outputs": [],
   "source": [
    "driver.close()"
   ]
  },
  {
   "cell_type": "markdown",
   "id": "2ec816f7",
   "metadata": {},
   "source": [
    "# ANS-11-A python program to display a list of 50 most expensive cars in the world."
   ]
  },
  {
   "cell_type": "code",
   "execution_count": 358,
   "id": "57f2a842",
   "metadata": {},
   "outputs": [],
   "source": [
    "driver=webdriver.Chrome(r\"C:\\Users\\OM RAJ PANDEY\\Desktop\\jupyter\\chromedriver.exe\")"
   ]
  },
  {
   "cell_type": "code",
   "execution_count": 359,
   "id": "9d6704ab",
   "metadata": {},
   "outputs": [],
   "source": [
    "#let's maximize the automated chrome window\n",
    "driver.maximize_window()"
   ]
  },
  {
   "cell_type": "code",
   "execution_count": 360,
   "id": "a3653732",
   "metadata": {},
   "outputs": [],
   "source": [
    "#Opening up motor1.com website on automated chrome window\n",
    "url='https://www.motor1.com/'\n",
    "driver.get(url)"
   ]
  },
  {
   "cell_type": "code",
   "execution_count": 362,
   "id": "5aa3bfdc",
   "metadata": {},
   "outputs": [],
   "source": [
    "menu_btn=driver.find_element(By.XPATH,'/html/body/div[2]/div[2]/div/div/div[1]/div')\n",
    "menu_btn.click()"
   ]
  },
  {
   "cell_type": "code",
   "execution_count": 363,
   "id": "bab0ae24",
   "metadata": {},
   "outputs": [],
   "source": [
    "list_btn=driver.find_element(By.XPATH,'/html/body/div[3]/div[1]/div[3]/ul/li[4]/a')\n",
    "list_btn.click()"
   ]
  },
  {
   "cell_type": "code",
   "execution_count": 364,
   "id": "fc25ed55",
   "metadata": {},
   "outputs": [],
   "source": [
    "cars_btn=driver.find_element(By.XPATH,'/html/body/div[2]/div[9]/div[1]/div[1]/div/div/div[1]/div/div[1]/h3/a')\n",
    "cars_btn.click()"
   ]
  },
  {
   "cell_type": "code",
   "execution_count": 365,
   "id": "a2856336",
   "metadata": {},
   "outputs": [
    {
     "data": {
      "text/plain": [
       "['Drako GTE',\n",
       " 'De Tomaso P72',\n",
       " 'Ferrari LaFerrari',\n",
       " 'Pagani Huayra',\n",
       " 'McLaren Elva',\n",
       " 'Czinger 21C',\n",
       " 'Ferrari Monza',\n",
       " 'Gordon Murray T.33',\n",
       " 'Koenigsegg Gemera',\n",
       " 'Zenvo TSR-S',\n",
       " 'Hennessey Venom F5',\n",
       " 'Bentley Bacalar',\n",
       " 'Hispano Suiza Carmen Boulogne',\n",
       " 'Bentley Mulliner Batur',\n",
       " 'Deus Vayanne',\n",
       " 'SSC Tuatara',\n",
       " 'Lotus Evija',\n",
       " 'Aston Martin Vulcan',\n",
       " 'Delage D12',\n",
       " 'McLaren Speedtail',\n",
       " 'Rimac Nevera',\n",
       " 'Pagani Utopia',\n",
       " 'Pininfarina Battista',\n",
       " 'Ferrari FXX K Evo',\n",
       " 'Gordon Murray T.50',\n",
       " 'Lamborghini Countach',\n",
       " 'Mercedes-AMG Project One',\n",
       " 'Aston Martin Victor',\n",
       " 'Hennessey Venom F5 Roadster',\n",
       " 'Koenigsegg Jesko',\n",
       " 'Aston Martin Valkyrie',\n",
       " 'W Motors Lykan Hypersport',\n",
       " 'McLaren Solus',\n",
       " 'Pagani Huayra Roadster BC',\n",
       " 'Bugatti Chiron Pur Sport',\n",
       " 'Lamborghini Sian',\n",
       " 'Koenigsegg CC850',\n",
       " 'Bugatti Chiron Super Sport 300+',\n",
       " 'Lamborghini Veneno',\n",
       " 'Bugatti Bolide',\n",
       " 'Bugatti Mistral',\n",
       " 'Pagani Huayra Imola',\n",
       " 'Bugatti Divo',\n",
       " 'SP Automotive Chaos',\n",
       " 'Pagani Codalunga',\n",
       " 'Mercedes-Maybach Exelero',\n",
       " 'Bugatti Centodieci',\n",
       " 'Rolls-Royce Sweptail',\n",
       " 'Bugatti La Voiture Noire',\n",
       " 'Rolls-Royce Boat Tail*']"
      ]
     },
     "execution_count": 365,
     "metadata": {},
     "output_type": "execute_result"
    }
   ],
   "source": [
    "#model name\n",
    "model=[]\n",
    "model_tags=driver.find_elements(By.XPATH,'//h3[@class=\"subheader\"]')\n",
    "for i in model_tags[0:50]:\n",
    "    model.append(i.text)\n",
    "model"
   ]
  },
  {
   "cell_type": "code",
   "execution_count": 366,
   "id": "46d9a682",
   "metadata": {},
   "outputs": [],
   "source": [
    "driver.close()"
   ]
  },
  {
   "cell_type": "code",
   "execution_count": null,
   "id": "4a560b41",
   "metadata": {},
   "outputs": [],
   "source": []
  }
 ],
 "metadata": {
  "kernelspec": {
   "display_name": "Python 3 (ipykernel)",
   "language": "python",
   "name": "python3"
  },
  "language_info": {
   "codemirror_mode": {
    "name": "ipython",
    "version": 3
   },
   "file_extension": ".py",
   "mimetype": "text/x-python",
   "name": "python",
   "nbconvert_exporter": "python",
   "pygments_lexer": "ipython3",
   "version": "3.9.12"
  }
 },
 "nbformat": 4,
 "nbformat_minor": 5
}
